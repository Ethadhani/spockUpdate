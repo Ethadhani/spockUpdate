{
 "cells": [
  {
   "cell_type": "markdown",
   "metadata": {},
   "source": [
    "# Generate SPOCK training data when integrating to one secular time scale"
   ]
  },
  {
   "cell_type": "code",
   "execution_count": 1,
   "metadata": {},
   "outputs": [],
   "source": [
    "import spock\n",
    "import random\n",
    "import numpy as np\n",
    "import rebound\n",
    "import pandas as pd\n",
    "from spock import simsetup\n",
    "from spock import FeatureClassifier"
   ]
  },
  {
   "cell_type": "markdown",
   "metadata": {},
   "source": [
    "load dataset"
   ]
  },
  {
   "cell_type": "code",
   "execution_count": 2,
   "metadata": {},
   "outputs": [],
   "source": [
    "#specify the data path\n",
    "#We will be using cleaned data generated from the original spock initial conditions data, filtered according to https://github.com/Ethadhani/SPOCKcleanData.git\n",
    "datapath = '../../cleanData/csvs/resonant/'\n",
    "initial = pd.read_csv(datapath+'clean_initial_conditions.csv')\n",
    "labels = pd.read_csv(datapath+'clean_labels.csv')\n",
    "#drop junk column\n",
    "initial = initial.drop('Unnamed: 0', axis = 1)\n",
    "#merge labels and initial conditions based on runstring\n",
    "Initialdataset = initial.set_index('runstring').join(labels.set_index('runstring'))\n",
    "Initialdataset = Initialdataset.drop('Unnamed: 0', axis = 1)"
   ]
  },
  {
   "cell_type": "markdown",
   "metadata": {},
   "source": [
    "We can establish a function that, given a list of initial conditions, will return a rebound simulation"
   ]
  },
  {
   "cell_type": "code",
   "execution_count": 3,
   "metadata": {},
   "outputs": [],
   "source": [
    "def get_sim(row, dataset):\n",
    "    '''Given a row number, and a data sheet containing initial conditions, returns a corresponding simulation\n",
    "    \n",
    "        Arguments:\n",
    "            row: what row the simulation you would like to create is on\n",
    "                format of row is in order: \n",
    "                [index, 'p0m', 'p0x', 'p0y', 'p0z', 'p0vx', 'p0vy', 'p0vz', 'p1m', 'p1x', 'p1y',\n",
    "                'p1z', 'p1vx', 'p1vy', 'p1vz', 'p2m', 'p2x', 'p2y', 'p2z', 'p2vx',\n",
    "                'p2vy', 'p2vz', 'p3m', 'p3x', 'p3y', 'p3z', 'p3vx', 'p3vy', 'p3vz']\n",
    "\n",
    "            dataset: what dataset contains your initial conditions\n",
    "\n",
    "        return: returns a rebound simulation with the specified initial conditions'''\n",
    "    try:\n",
    "        data = dataset.loc[row]\n",
    "        sim = rebound.Simulation()\n",
    "        sim.G=4*np.pi**2\n",
    "        sim.add(m=data['p0m'], x=data['p0x'], y=data['p0y'], z=data['p0z'], vx=data['p0vx'], vy=data['p0vy'], vz=data['p0vz'])\n",
    "        sim.add(m=data['p1m'], x=data['p1x'], y=data['p1y'], z=data['p1z'], vx=data['p1vx'], vy=data['p1vy'], vz=data['p1vz'])\n",
    "        sim.add(m=data['p2m'], x=data['p2x'], y=data['p2y'], z=data['p2z'], vx=data['p2vx'], vy=data['p2vy'], vz=data['p2vz'])\n",
    "        sim.add(m=data['p3m'], x=data['p3x'], y=data['p3y'], z=data['p3z'], vx=data['p3vx'], vy=data['p3vy'], vz=data['p3vz'])\n",
    "        return sim\n",
    "    except:\n",
    "        print(\"Error reading initial condition {0}\".format(row))\n",
    "        return None"
   ]
  },
  {
   "cell_type": "markdown",
   "metadata": {},
   "source": [
    "We can now generate the set of system row indices"
   ]
  },
  {
   "cell_type": "code",
   "execution_count": 4,
   "metadata": {},
   "outputs": [],
   "source": [
    "#generates the indexes of the systems\n",
    "systemNum = range(Initialdataset.shape[0])"
   ]
  },
  {
   "cell_type": "markdown",
   "metadata": {},
   "source": [
    "We can note the column names and import the different feature generators"
   ]
  },
  {
   "cell_type": "code",
   "execution_count": 5,
   "metadata": {},
   "outputs": [],
   "source": [
    "col = ['EMcrossnear', 'EMfracstdnear', 'EPstdnear', 'MMRstrengthnear', 'EMcrossfar', 'EMfracstdfar', 'EPstdfar', 'MMRstrengthfar', 'MEGNO', 'MEGNOstd','Tmax', 'InitialStable']"
   ]
  },
  {
   "cell_type": "code",
   "execution_count": 6,
   "metadata": {},
   "outputs": [],
   "source": [
    "spock = FeatureClassifier()"
   ]
  },
  {
   "cell_type": "markdown",
   "metadata": {},
   "source": [
    "We can then establish some helper functions that will allow us to map the spock.generate_feature function to the different systems by mapping to different row numbers and generating the correct simulation"
   ]
  },
  {
   "cell_type": "code",
   "execution_count": 7,
   "metadata": {},
   "outputs": [],
   "source": [
    "def getList(features):\n",
    "    '''Helper function which isolates the data list from the generate_features return'''\n",
    "    return list(features[0][0].values())+[features[1]]"
   ]
  },
  {
   "cell_type": "code",
   "execution_count": 8,
   "metadata": {},
   "outputs": [],
   "source": [
    "def getFeat(num):\n",
    "    '''when given a index of a row, loads initial conditions and returns the spock generated features'''\n",
    "    #gets features based on index num\n",
    "    sim = get_sim(num,initial)\n",
    "    return spock.generate_features(sim, Tmax = True) #currently set to intigrate to 1Tsec"
   ]
  },
  {
   "cell_type": "code",
   "execution_count": 9,
   "metadata": {},
   "outputs": [
    {
     "data": {
      "text/plain": [
       "'4.3.2'"
      ]
     },
     "execution_count": 9,
     "metadata": {},
     "output_type": "execute_result"
    }
   ],
   "source": [
    "rebound.__version__"
   ]
  },
  {
   "cell_type": "markdown",
   "metadata": {},
   "source": [
    "We can now map getFeat to the different rows of the Initial df, this will create each simulation and generate the spock features."
   ]
  },
  {
   "cell_type": "code",
   "execution_count": 10,
   "metadata": {},
   "outputs": [
    {
     "name": "stdout",
     "output_type": "stream",
     "text": [
      "CPU times: user 3.07 s, sys: 597 ms, total: 3.67 s\n",
      "Wall time: 27min 40s\n"
     ]
    }
   ],
   "source": [
    "%%time\n",
    "import sys\n",
    "from multiprocessing import Pool\n",
    "sys.path.append('spockUpdate/train_models')\n",
    "#import is required to get around jupyter notebook bug with multiprocessing\n",
    "if __name__ == \"__main__\":\n",
    "    with Pool() as pool:\n",
    "        features = pool.map(getFeat,systemNum)\n",
    "        pool.close()\n",
    "        pool.join()\n",
    "#formats the data correctly"
   ]
  },
  {
   "cell_type": "code",
   "execution_count": 11,
   "metadata": {},
   "outputs": [],
   "source": [
    "formattedFeat = pd.DataFrame(np.array(list(map(getList,features))), columns = col)"
   ]
  },
  {
   "cell_type": "markdown",
   "metadata": {},
   "source": [
    "We can then join the generated features with the corresponding labels"
   ]
  },
  {
   "cell_type": "code",
   "execution_count": 12,
   "metadata": {},
   "outputs": [],
   "source": [
    "dataset = pd.DataFrame.join(formattedFeat,labels)"
   ]
  },
  {
   "cell_type": "code",
   "execution_count": 13,
   "metadata": {},
   "outputs": [
    {
     "data": {
      "text/html": [
       "<div>\n",
       "<style scoped>\n",
       "    .dataframe tbody tr th:only-of-type {\n",
       "        vertical-align: middle;\n",
       "    }\n",
       "\n",
       "    .dataframe tbody tr th {\n",
       "        vertical-align: top;\n",
       "    }\n",
       "\n",
       "    .dataframe thead th {\n",
       "        text-align: right;\n",
       "    }\n",
       "</style>\n",
       "<table border=\"1\" class=\"dataframe\">\n",
       "  <thead>\n",
       "    <tr style=\"text-align: right;\">\n",
       "      <th></th>\n",
       "      <th>EMcrossnear</th>\n",
       "      <th>EMfracstdnear</th>\n",
       "      <th>EPstdnear</th>\n",
       "      <th>MMRstrengthnear</th>\n",
       "      <th>EMcrossfar</th>\n",
       "      <th>EMfracstdfar</th>\n",
       "      <th>EPstdfar</th>\n",
       "      <th>MMRstrengthfar</th>\n",
       "      <th>MEGNO</th>\n",
       "      <th>MEGNOstd</th>\n",
       "      <th>Tmax</th>\n",
       "      <th>InitialStable</th>\n",
       "      <th>Unnamed: 0</th>\n",
       "      <th>runstring</th>\n",
       "      <th>instability_time</th>\n",
       "      <th>shadow_instability_time</th>\n",
       "      <th>Stable</th>\n",
       "    </tr>\n",
       "  </thead>\n",
       "  <tbody>\n",
       "    <tr>\n",
       "      <th>0</th>\n",
       "      <td>0.060234</td>\n",
       "      <td>0.029458</td>\n",
       "      <td>0.001995</td>\n",
       "      <td>0.493311</td>\n",
       "      <td>0.504063</td>\n",
       "      <td>0.002902</td>\n",
       "      <td>0.000816</td>\n",
       "      <td>NaN</td>\n",
       "      <td>1.998619</td>\n",
       "      <td>0.003190</td>\n",
       "      <td>28431.468891</td>\n",
       "      <td>1.0</td>\n",
       "      <td>0</td>\n",
       "      <td>0000000.bin</td>\n",
       "      <td>1.545872e+06</td>\n",
       "      <td>3.063700e+06</td>\n",
       "      <td>False</td>\n",
       "    </tr>\n",
       "    <tr>\n",
       "      <th>1</th>\n",
       "      <td>0.080547</td>\n",
       "      <td>0.016559</td>\n",
       "      <td>0.000112</td>\n",
       "      <td>0.452015</td>\n",
       "      <td>0.240504</td>\n",
       "      <td>0.006736</td>\n",
       "      <td>0.001621</td>\n",
       "      <td>0.008674</td>\n",
       "      <td>2.001688</td>\n",
       "      <td>0.004966</td>\n",
       "      <td>3904.312508</td>\n",
       "      <td>1.0</td>\n",
       "      <td>1</td>\n",
       "      <td>0000001.bin</td>\n",
       "      <td>9.990000e+08</td>\n",
       "      <td>9.990000e+08</td>\n",
       "      <td>True</td>\n",
       "    </tr>\n",
       "    <tr>\n",
       "      <th>2</th>\n",
       "      <td>0.129660</td>\n",
       "      <td>0.028840</td>\n",
       "      <td>0.003182</td>\n",
       "      <td>1.000007</td>\n",
       "      <td>1.001981</td>\n",
       "      <td>0.001402</td>\n",
       "      <td>0.003742</td>\n",
       "      <td>0.010417</td>\n",
       "      <td>1.995051</td>\n",
       "      <td>0.003312</td>\n",
       "      <td>70073.708587</td>\n",
       "      <td>1.0</td>\n",
       "      <td>2</td>\n",
       "      <td>0000002.bin</td>\n",
       "      <td>9.990000e+08</td>\n",
       "      <td>9.990000e+08</td>\n",
       "      <td>True</td>\n",
       "    </tr>\n",
       "    <tr>\n",
       "      <th>3</th>\n",
       "      <td>0.406112</td>\n",
       "      <td>0.036450</td>\n",
       "      <td>0.002390</td>\n",
       "      <td>0.316676</td>\n",
       "      <td>0.427768</td>\n",
       "      <td>0.036189</td>\n",
       "      <td>0.008580</td>\n",
       "      <td>0.012898</td>\n",
       "      <td>2.002498</td>\n",
       "      <td>0.000335</td>\n",
       "      <td>18314.546267</td>\n",
       "      <td>1.0</td>\n",
       "      <td>3</td>\n",
       "      <td>0000003.bin</td>\n",
       "      <td>2.287671e+06</td>\n",
       "      <td>8.392234e+06</td>\n",
       "      <td>False</td>\n",
       "    </tr>\n",
       "    <tr>\n",
       "      <th>4</th>\n",
       "      <td>0.059897</td>\n",
       "      <td>0.028003</td>\n",
       "      <td>0.001623</td>\n",
       "      <td>0.334384</td>\n",
       "      <td>0.257596</td>\n",
       "      <td>0.053194</td>\n",
       "      <td>0.001287</td>\n",
       "      <td>0.034789</td>\n",
       "      <td>2.029737</td>\n",
       "      <td>0.013224</td>\n",
       "      <td>4110.218384</td>\n",
       "      <td>1.0</td>\n",
       "      <td>4</td>\n",
       "      <td>0000004.bin</td>\n",
       "      <td>9.668931e+05</td>\n",
       "      <td>3.380350e+05</td>\n",
       "      <td>False</td>\n",
       "    </tr>\n",
       "    <tr>\n",
       "      <th>...</th>\n",
       "      <td>...</td>\n",
       "      <td>...</td>\n",
       "      <td>...</td>\n",
       "      <td>...</td>\n",
       "      <td>...</td>\n",
       "      <td>...</td>\n",
       "      <td>...</td>\n",
       "      <td>...</td>\n",
       "      <td>...</td>\n",
       "      <td>...</td>\n",
       "      <td>...</td>\n",
       "      <td>...</td>\n",
       "      <td>...</td>\n",
       "      <td>...</td>\n",
       "      <td>...</td>\n",
       "      <td>...</td>\n",
       "      <td>...</td>\n",
       "    </tr>\n",
       "    <tr>\n",
       "      <th>102492</th>\n",
       "      <td>0.089252</td>\n",
       "      <td>NaN</td>\n",
       "      <td>NaN</td>\n",
       "      <td>NaN</td>\n",
       "      <td>0.310694</td>\n",
       "      <td>NaN</td>\n",
       "      <td>NaN</td>\n",
       "      <td>NaN</td>\n",
       "      <td>NaN</td>\n",
       "      <td>NaN</td>\n",
       "      <td>23579.726004</td>\n",
       "      <td>0.0</td>\n",
       "      <td>113537</td>\n",
       "      <td>9044761.bin</td>\n",
       "      <td>6.303165e+04</td>\n",
       "      <td>6.470086e+04</td>\n",
       "      <td>False</td>\n",
       "    </tr>\n",
       "    <tr>\n",
       "      <th>102493</th>\n",
       "      <td>0.082222</td>\n",
       "      <td>0.039520</td>\n",
       "      <td>0.006137</td>\n",
       "      <td>0.680177</td>\n",
       "      <td>0.664222</td>\n",
       "      <td>0.030981</td>\n",
       "      <td>0.001015</td>\n",
       "      <td>NaN</td>\n",
       "      <td>1.999417</td>\n",
       "      <td>0.004993</td>\n",
       "      <td>4127.660202</td>\n",
       "      <td>1.0</td>\n",
       "      <td>113538</td>\n",
       "      <td>9045377.bin</td>\n",
       "      <td>6.990387e+05</td>\n",
       "      <td>8.267916e+05</td>\n",
       "      <td>False</td>\n",
       "    </tr>\n",
       "    <tr>\n",
       "      <th>102494</th>\n",
       "      <td>0.131799</td>\n",
       "      <td>0.022001</td>\n",
       "      <td>0.000148</td>\n",
       "      <td>0.875319</td>\n",
       "      <td>0.366664</td>\n",
       "      <td>0.060675</td>\n",
       "      <td>0.016560</td>\n",
       "      <td>0.005155</td>\n",
       "      <td>2.079854</td>\n",
       "      <td>0.076477</td>\n",
       "      <td>1130.408347</td>\n",
       "      <td>1.0</td>\n",
       "      <td>113540</td>\n",
       "      <td>9045380.bin</td>\n",
       "      <td>1.193822e+07</td>\n",
       "      <td>3.363291e+07</td>\n",
       "      <td>False</td>\n",
       "    </tr>\n",
       "    <tr>\n",
       "      <th>102495</th>\n",
       "      <td>0.209454</td>\n",
       "      <td>0.036894</td>\n",
       "      <td>0.005252</td>\n",
       "      <td>1.492760</td>\n",
       "      <td>0.395073</td>\n",
       "      <td>0.102268</td>\n",
       "      <td>0.022792</td>\n",
       "      <td>0.029797</td>\n",
       "      <td>1.875272</td>\n",
       "      <td>0.066749</td>\n",
       "      <td>4234.380683</td>\n",
       "      <td>1.0</td>\n",
       "      <td>113541</td>\n",
       "      <td>9045382.bin</td>\n",
       "      <td>2.064407e+08</td>\n",
       "      <td>4.316851e+07</td>\n",
       "      <td>False</td>\n",
       "    </tr>\n",
       "    <tr>\n",
       "      <th>102496</th>\n",
       "      <td>0.182523</td>\n",
       "      <td>NaN</td>\n",
       "      <td>NaN</td>\n",
       "      <td>NaN</td>\n",
       "      <td>0.430482</td>\n",
       "      <td>NaN</td>\n",
       "      <td>NaN</td>\n",
       "      <td>NaN</td>\n",
       "      <td>NaN</td>\n",
       "      <td>NaN</td>\n",
       "      <td>12025.806690</td>\n",
       "      <td>0.0</td>\n",
       "      <td>113542</td>\n",
       "      <td>9045383.bin</td>\n",
       "      <td>2.266066e+04</td>\n",
       "      <td>2.228425e+04</td>\n",
       "      <td>False</td>\n",
       "    </tr>\n",
       "  </tbody>\n",
       "</table>\n",
       "<p>102497 rows × 17 columns</p>\n",
       "</div>"
      ],
      "text/plain": [
       "        EMcrossnear  EMfracstdnear  EPstdnear  MMRstrengthnear  EMcrossfar  \\\n",
       "0          0.060234       0.029458   0.001995         0.493311    0.504063   \n",
       "1          0.080547       0.016559   0.000112         0.452015    0.240504   \n",
       "2          0.129660       0.028840   0.003182         1.000007    1.001981   \n",
       "3          0.406112       0.036450   0.002390         0.316676    0.427768   \n",
       "4          0.059897       0.028003   0.001623         0.334384    0.257596   \n",
       "...             ...            ...        ...              ...         ...   \n",
       "102492     0.089252            NaN        NaN              NaN    0.310694   \n",
       "102493     0.082222       0.039520   0.006137         0.680177    0.664222   \n",
       "102494     0.131799       0.022001   0.000148         0.875319    0.366664   \n",
       "102495     0.209454       0.036894   0.005252         1.492760    0.395073   \n",
       "102496     0.182523            NaN        NaN              NaN    0.430482   \n",
       "\n",
       "        EMfracstdfar  EPstdfar  MMRstrengthfar     MEGNO  MEGNOstd  \\\n",
       "0           0.002902  0.000816             NaN  1.998619  0.003190   \n",
       "1           0.006736  0.001621        0.008674  2.001688  0.004966   \n",
       "2           0.001402  0.003742        0.010417  1.995051  0.003312   \n",
       "3           0.036189  0.008580        0.012898  2.002498  0.000335   \n",
       "4           0.053194  0.001287        0.034789  2.029737  0.013224   \n",
       "...              ...       ...             ...       ...       ...   \n",
       "102492           NaN       NaN             NaN       NaN       NaN   \n",
       "102493      0.030981  0.001015             NaN  1.999417  0.004993   \n",
       "102494      0.060675  0.016560        0.005155  2.079854  0.076477   \n",
       "102495      0.102268  0.022792        0.029797  1.875272  0.066749   \n",
       "102496           NaN       NaN             NaN       NaN       NaN   \n",
       "\n",
       "                Tmax  InitialStable  Unnamed: 0    runstring  \\\n",
       "0       28431.468891            1.0           0  0000000.bin   \n",
       "1        3904.312508            1.0           1  0000001.bin   \n",
       "2       70073.708587            1.0           2  0000002.bin   \n",
       "3       18314.546267            1.0           3  0000003.bin   \n",
       "4        4110.218384            1.0           4  0000004.bin   \n",
       "...              ...            ...         ...          ...   \n",
       "102492  23579.726004            0.0      113537  9044761.bin   \n",
       "102493   4127.660202            1.0      113538  9045377.bin   \n",
       "102494   1130.408347            1.0      113540  9045380.bin   \n",
       "102495   4234.380683            1.0      113541  9045382.bin   \n",
       "102496  12025.806690            0.0      113542  9045383.bin   \n",
       "\n",
       "        instability_time  shadow_instability_time  Stable  \n",
       "0           1.545872e+06             3.063700e+06   False  \n",
       "1           9.990000e+08             9.990000e+08    True  \n",
       "2           9.990000e+08             9.990000e+08    True  \n",
       "3           2.287671e+06             8.392234e+06   False  \n",
       "4           9.668931e+05             3.380350e+05   False  \n",
       "...                  ...                      ...     ...  \n",
       "102492      6.303165e+04             6.470086e+04   False  \n",
       "102493      6.990387e+05             8.267916e+05   False  \n",
       "102494      1.193822e+07             3.363291e+07   False  \n",
       "102495      2.064407e+08             4.316851e+07   False  \n",
       "102496      2.266066e+04             2.228425e+04   False  \n",
       "\n",
       "[102497 rows x 17 columns]"
      ]
     },
     "execution_count": 13,
     "metadata": {},
     "output_type": "execute_result"
    }
   ],
   "source": [
    "dataset"
   ]
  },
  {
   "cell_type": "markdown",
   "metadata": {},
   "source": [
    "We can then save the new training data spreadsheet."
   ]
  },
  {
   "cell_type": "code",
   "execution_count": 14,
   "metadata": {},
   "outputs": [],
   "source": [
    "dataset.to_csv(datapath+'Int1Tsec.csv')"
   ]
  }
 ],
 "metadata": {
  "kernelspec": {
   "display_name": "ethadhani",
   "language": "python",
   "name": "python3"
  },
  "language_info": {
   "codemirror_mode": {
    "name": "ipython",
    "version": 3
   },
   "file_extension": ".py",
   "mimetype": "text/x-python",
   "name": "python",
   "nbconvert_exporter": "python",
   "pygments_lexer": "ipython3",
   "version": "3.10.13"
  }
 },
 "nbformat": 4,
 "nbformat_minor": 2
}
