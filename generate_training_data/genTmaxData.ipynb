{
 "cells": [
  {
   "cell_type": "markdown",
   "metadata": {},
   "source": [
    "# Generate SPOCK training data"
   ]
  },
  {
   "cell_type": "code",
   "execution_count": 1,
   "metadata": {},
   "outputs": [],
   "source": [
    "import spock\n",
    "import random\n",
    "import numpy as np\n",
    "import rebound\n",
    "import pandas as pd\n",
    "from spock import simsetup\n",
    "from spock import FeatureClassifier"
   ]
  },
  {
   "cell_type": "markdown",
   "metadata": {},
   "source": [
    "load dataset"
   ]
  },
  {
   "cell_type": "code",
   "execution_count": 2,
   "metadata": {},
   "outputs": [],
   "source": [
    "#specify the data path\n",
    "#We will be using cleaned data generated from the original spock initial conditions data, filtered according to https://github.com/Ethadhani/SPOCKcleanData.git\n",
    "datapath = '../../cleanData/csvs/resonant/'\n",
    "initial = pd.read_csv(datapath+'clean_initial_conditions.csv')\n",
    "labels = pd.read_csv(datapath+'clean_labels.csv')\n",
    "#drop junk column\n",
    "initial = initial.drop('Unnamed: 0', axis = 1)\n",
    "#merge labels and initial conditions based on runstring\n",
    "Initialdataset = initial.set_index('runstring').join(labels.set_index('runstring'))\n",
    "Initialdataset = Initialdataset.drop('Unnamed: 0', axis = 1)"
   ]
  },
  {
   "cell_type": "markdown",
   "metadata": {},
   "source": [
    "We can establish a function that, given a list of initial conditions, will return a rebound simulation"
   ]
  },
  {
   "cell_type": "code",
   "execution_count": 3,
   "metadata": {},
   "outputs": [],
   "source": [
    "def get_sim(row, dataset):\n",
    "    '''Given a row number, and a data sheet containing initial conditions, returns a corresponding simulation\n",
    "    \n",
    "        Arguments:\n",
    "            row: what row the simulation you would like to create is on\n",
    "                format of row is in order: \n",
    "                [index, 'p0m', 'p0x', 'p0y', 'p0z', 'p0vx', 'p0vy', 'p0vz', 'p1m', 'p1x', 'p1y',\n",
    "                'p1z', 'p1vx', 'p1vy', 'p1vz', 'p2m', 'p2x', 'p2y', 'p2z', 'p2vx',\n",
    "                'p2vy', 'p2vz', 'p3m', 'p3x', 'p3y', 'p3z', 'p3vx', 'p3vy', 'p3vz']\n",
    "\n",
    "            dataset: what dataset contains your initial conditions\n",
    "\n",
    "        return: returns a rebound simulation with the specified initial conditions'''\n",
    "    try:\n",
    "        data = dataset.loc[row]\n",
    "        sim = rebound.Simulation()\n",
    "        sim.G=4*np.pi**2\n",
    "        sim.add(m=data['p0m'], x=data['p0x'], y=data['p0y'], z=data['p0z'], vx=data['p0vx'], vy=data['p0vy'], vz=data['p0vz'])\n",
    "        sim.add(m=data['p1m'], x=data['p1x'], y=data['p1y'], z=data['p1z'], vx=data['p1vx'], vy=data['p1vy'], vz=data['p1vz'])\n",
    "        sim.add(m=data['p2m'], x=data['p2x'], y=data['p2y'], z=data['p2z'], vx=data['p2vx'], vy=data['p2vy'], vz=data['p2vz'])\n",
    "        sim.add(m=data['p3m'], x=data['p3x'], y=data['p3y'], z=data['p3z'], vx=data['p3vx'], vy=data['p3vy'], vz=data['p3vz'])\n",
    "        return sim\n",
    "    except:\n",
    "        print(\"Error reading initial condition {0}\".format(row))\n",
    "        return None"
   ]
  },
  {
   "cell_type": "markdown",
   "metadata": {},
   "source": [
    "We can now generate the set of system row indices"
   ]
  },
  {
   "cell_type": "code",
   "execution_count": 4,
   "metadata": {},
   "outputs": [],
   "source": [
    "#generates the indexes of the systems\n",
    "systemNum = range(Initialdataset.shape[0])"
   ]
  },
  {
   "cell_type": "markdown",
   "metadata": {},
   "source": [
    "We can note the column names and import the different feature generators"
   ]
  },
  {
   "cell_type": "code",
   "execution_count": 5,
   "metadata": {},
   "outputs": [],
   "source": [
    "col = ['EMcrossnear', 'EMfracstdnear', 'EPstdnear', 'MMRstrengthnear', 'EMcrossfar', 'EMfracstdfar', 'EPstdfar', 'MMRstrengthfar', 'MEGNO', 'MEGNOstd','Tmax', 'InitialStable']"
   ]
  },
  {
   "cell_type": "code",
   "execution_count": 6,
   "metadata": {},
   "outputs": [],
   "source": [
    "spock = FeatureClassifier()"
   ]
  },
  {
   "cell_type": "markdown",
   "metadata": {},
   "source": [
    "We can then establish some helper functions that will allow us to map the spock.generate_feature function to the different systems by mapping to different row numbers and generating the correct simulation"
   ]
  },
  {
   "cell_type": "code",
   "execution_count": 7,
   "metadata": {},
   "outputs": [],
   "source": [
    "def getList(features):\n",
    "    '''Helper function which isolates the data list from the generate_features return'''\n",
    "    return list(features[0][0].values())+[features[1]]"
   ]
  },
  {
   "cell_type": "code",
   "execution_count": 8,
   "metadata": {},
   "outputs": [],
   "source": [
    "def getFeat(num):\n",
    "    '''when given a index of a row, loads initial conditions and returns the spock generated features'''\n",
    "    #gets features based on index num\n",
    "    sim = get_sim(num,initial)\n",
    "    return spock.generate_features(sim, Tmax = True)"
   ]
  },
  {
   "cell_type": "code",
   "execution_count": 9,
   "metadata": {},
   "outputs": [
    {
     "data": {
      "text/plain": [
       "'4.3.2'"
      ]
     },
     "execution_count": 9,
     "metadata": {},
     "output_type": "execute_result"
    }
   ],
   "source": [
    "rebound.__version__"
   ]
  },
  {
   "cell_type": "markdown",
   "metadata": {},
   "source": [
    "We can now map getFeat to the different rows of the Initial df, this will create each simulation and generate the spock features."
   ]
  },
  {
   "cell_type": "code",
   "execution_count": 10,
   "metadata": {},
   "outputs": [
    {
     "name": "stdout",
     "output_type": "stream",
     "text": [
      "CPU times: user 3.09 s, sys: 590 ms, total: 3.68 s\n",
      "Wall time: 23min 20s\n"
     ]
    }
   ],
   "source": [
    "%%time\n",
    "import sys\n",
    "from multiprocessing import Pool\n",
    "sys.path.append('spockUpdate/train_models')\n",
    "#import is required to get around jupyter notebook bug with multiprocessing\n",
    "if __name__ == \"__main__\":\n",
    "    with Pool() as pool:\n",
    "        features = pool.map(getFeat,systemNum)\n",
    "        pool.close()\n",
    "        pool.join()\n",
    "#formats the data correctly\n",
    "\n"
   ]
  },
  {
   "cell_type": "code",
   "execution_count": 11,
   "metadata": {},
   "outputs": [],
   "source": [
    "formattedFeat = pd.DataFrame(np.array(list(map(getList,features))), columns = col)"
   ]
  },
  {
   "cell_type": "markdown",
   "metadata": {},
   "source": [
    "We can then join the generated features with the corresponding labels"
   ]
  },
  {
   "cell_type": "code",
   "execution_count": 12,
   "metadata": {},
   "outputs": [],
   "source": [
    "dataset = pd.DataFrame.join(formattedFeat,labels)"
   ]
  },
  {
   "cell_type": "code",
   "execution_count": 13,
   "metadata": {},
   "outputs": [
    {
     "data": {
      "text/html": [
       "<div>\n",
       "<style scoped>\n",
       "    .dataframe tbody tr th:only-of-type {\n",
       "        vertical-align: middle;\n",
       "    }\n",
       "\n",
       "    .dataframe tbody tr th {\n",
       "        vertical-align: top;\n",
       "    }\n",
       "\n",
       "    .dataframe thead th {\n",
       "        text-align: right;\n",
       "    }\n",
       "</style>\n",
       "<table border=\"1\" class=\"dataframe\">\n",
       "  <thead>\n",
       "    <tr style=\"text-align: right;\">\n",
       "      <th></th>\n",
       "      <th>EMcrossnear</th>\n",
       "      <th>EMfracstdnear</th>\n",
       "      <th>EPstdnear</th>\n",
       "      <th>MMRstrengthnear</th>\n",
       "      <th>EMcrossfar</th>\n",
       "      <th>EMfracstdfar</th>\n",
       "      <th>EPstdfar</th>\n",
       "      <th>MMRstrengthfar</th>\n",
       "      <th>MEGNO</th>\n",
       "      <th>MEGNOstd</th>\n",
       "      <th>Tmax</th>\n",
       "      <th>InitialStable</th>\n",
       "      <th>Unnamed: 0</th>\n",
       "      <th>runstring</th>\n",
       "      <th>instability_time</th>\n",
       "      <th>shadow_instability_time</th>\n",
       "      <th>Stable</th>\n",
       "    </tr>\n",
       "  </thead>\n",
       "  <tbody>\n",
       "    <tr>\n",
       "      <th>0</th>\n",
       "      <td>0.060234</td>\n",
       "      <td>0.029994</td>\n",
       "      <td>0.001160</td>\n",
       "      <td>0.513338</td>\n",
       "      <td>0.504063</td>\n",
       "      <td>0.001808</td>\n",
       "      <td>0.000559</td>\n",
       "      <td>NaN</td>\n",
       "      <td>1.991687</td>\n",
       "      <td>0.003411</td>\n",
       "      <td>20982.207221</td>\n",
       "      <td>1.0</td>\n",
       "      <td>0</td>\n",
       "      <td>0000000.bin</td>\n",
       "      <td>1.545872e+06</td>\n",
       "      <td>3.063700e+06</td>\n",
       "      <td>False</td>\n",
       "    </tr>\n",
       "    <tr>\n",
       "      <th>1</th>\n",
       "      <td>0.080547</td>\n",
       "      <td>0.017239</td>\n",
       "      <td>0.000138</td>\n",
       "      <td>0.432211</td>\n",
       "      <td>0.240504</td>\n",
       "      <td>0.008924</td>\n",
       "      <td>0.002141</td>\n",
       "      <td>0.008266</td>\n",
       "      <td>1.994730</td>\n",
       "      <td>0.003807</td>\n",
       "      <td>10000.000000</td>\n",
       "      <td>1.0</td>\n",
       "      <td>1</td>\n",
       "      <td>0000001.bin</td>\n",
       "      <td>9.990000e+08</td>\n",
       "      <td>9.990000e+08</td>\n",
       "      <td>True</td>\n",
       "    </tr>\n",
       "    <tr>\n",
       "      <th>2</th>\n",
       "      <td>0.129660</td>\n",
       "      <td>0.028790</td>\n",
       "      <td>0.001050</td>\n",
       "      <td>1.042844</td>\n",
       "      <td>1.001981</td>\n",
       "      <td>0.000465</td>\n",
       "      <td>0.000964</td>\n",
       "      <td>0.010449</td>\n",
       "      <td>1.975746</td>\n",
       "      <td>0.015904</td>\n",
       "      <td>10273.032450</td>\n",
       "      <td>1.0</td>\n",
       "      <td>2</td>\n",
       "      <td>0000002.bin</td>\n",
       "      <td>9.990000e+08</td>\n",
       "      <td>9.990000e+08</td>\n",
       "      <td>True</td>\n",
       "    </tr>\n",
       "    <tr>\n",
       "      <th>3</th>\n",
       "      <td>0.406112</td>\n",
       "      <td>0.038497</td>\n",
       "      <td>0.001201</td>\n",
       "      <td>0.267824</td>\n",
       "      <td>0.427768</td>\n",
       "      <td>0.037941</td>\n",
       "      <td>0.006196</td>\n",
       "      <td>0.013943</td>\n",
       "      <td>2.002463</td>\n",
       "      <td>0.000548</td>\n",
       "      <td>12772.209007</td>\n",
       "      <td>1.0</td>\n",
       "      <td>3</td>\n",
       "      <td>0000003.bin</td>\n",
       "      <td>2.287671e+06</td>\n",
       "      <td>8.392234e+06</td>\n",
       "      <td>False</td>\n",
       "    </tr>\n",
       "    <tr>\n",
       "      <th>4</th>\n",
       "      <td>0.059897</td>\n",
       "      <td>0.026167</td>\n",
       "      <td>0.001919</td>\n",
       "      <td>0.285146</td>\n",
       "      <td>0.257596</td>\n",
       "      <td>0.052339</td>\n",
       "      <td>0.001386</td>\n",
       "      <td>0.032904</td>\n",
       "      <td>1.805866</td>\n",
       "      <td>0.080916</td>\n",
       "      <td>10000.000000</td>\n",
       "      <td>1.0</td>\n",
       "      <td>4</td>\n",
       "      <td>0000004.bin</td>\n",
       "      <td>9.668931e+05</td>\n",
       "      <td>3.380350e+05</td>\n",
       "      <td>False</td>\n",
       "    </tr>\n",
       "    <tr>\n",
       "      <th>...</th>\n",
       "      <td>...</td>\n",
       "      <td>...</td>\n",
       "      <td>...</td>\n",
       "      <td>...</td>\n",
       "      <td>...</td>\n",
       "      <td>...</td>\n",
       "      <td>...</td>\n",
       "      <td>...</td>\n",
       "      <td>...</td>\n",
       "      <td>...</td>\n",
       "      <td>...</td>\n",
       "      <td>...</td>\n",
       "      <td>...</td>\n",
       "      <td>...</td>\n",
       "      <td>...</td>\n",
       "      <td>...</td>\n",
       "      <td>...</td>\n",
       "    </tr>\n",
       "    <tr>\n",
       "      <th>102492</th>\n",
       "      <td>0.089252</td>\n",
       "      <td>0.275075</td>\n",
       "      <td>0.011026</td>\n",
       "      <td>0.046877</td>\n",
       "      <td>0.310694</td>\n",
       "      <td>0.033706</td>\n",
       "      <td>0.000990</td>\n",
       "      <td>1.102392</td>\n",
       "      <td>76.243870</td>\n",
       "      <td>20.441126</td>\n",
       "      <td>10123.428805</td>\n",
       "      <td>1.0</td>\n",
       "      <td>113537</td>\n",
       "      <td>9044761.bin</td>\n",
       "      <td>6.303165e+04</td>\n",
       "      <td>6.470086e+04</td>\n",
       "      <td>False</td>\n",
       "    </tr>\n",
       "    <tr>\n",
       "      <th>102493</th>\n",
       "      <td>0.082222</td>\n",
       "      <td>0.049940</td>\n",
       "      <td>0.016289</td>\n",
       "      <td>0.614960</td>\n",
       "      <td>0.664222</td>\n",
       "      <td>0.031330</td>\n",
       "      <td>0.003745</td>\n",
       "      <td>NaN</td>\n",
       "      <td>1.998822</td>\n",
       "      <td>0.003453</td>\n",
       "      <td>10000.000000</td>\n",
       "      <td>1.0</td>\n",
       "      <td>113538</td>\n",
       "      <td>9045377.bin</td>\n",
       "      <td>6.990387e+05</td>\n",
       "      <td>8.267916e+05</td>\n",
       "      <td>False</td>\n",
       "    </tr>\n",
       "    <tr>\n",
       "      <th>102494</th>\n",
       "      <td>0.131799</td>\n",
       "      <td>0.027696</td>\n",
       "      <td>0.001457</td>\n",
       "      <td>0.660450</td>\n",
       "      <td>0.366664</td>\n",
       "      <td>0.067480</td>\n",
       "      <td>0.020412</td>\n",
       "      <td>0.005440</td>\n",
       "      <td>7.135916</td>\n",
       "      <td>1.918209</td>\n",
       "      <td>10000.000000</td>\n",
       "      <td>1.0</td>\n",
       "      <td>113540</td>\n",
       "      <td>9045380.bin</td>\n",
       "      <td>1.193822e+07</td>\n",
       "      <td>3.363291e+07</td>\n",
       "      <td>False</td>\n",
       "    </tr>\n",
       "    <tr>\n",
       "      <th>102495</th>\n",
       "      <td>0.209454</td>\n",
       "      <td>0.090838</td>\n",
       "      <td>0.010214</td>\n",
       "      <td>1.438882</td>\n",
       "      <td>0.395073</td>\n",
       "      <td>0.102280</td>\n",
       "      <td>0.038515</td>\n",
       "      <td>0.041145</td>\n",
       "      <td>2.117164</td>\n",
       "      <td>0.088393</td>\n",
       "      <td>10000.000000</td>\n",
       "      <td>1.0</td>\n",
       "      <td>113541</td>\n",
       "      <td>9045382.bin</td>\n",
       "      <td>2.064407e+08</td>\n",
       "      <td>4.316851e+07</td>\n",
       "      <td>False</td>\n",
       "    </tr>\n",
       "    <tr>\n",
       "      <th>102496</th>\n",
       "      <td>0.182523</td>\n",
       "      <td>NaN</td>\n",
       "      <td>NaN</td>\n",
       "      <td>NaN</td>\n",
       "      <td>0.430482</td>\n",
       "      <td>NaN</td>\n",
       "      <td>NaN</td>\n",
       "      <td>NaN</td>\n",
       "      <td>NaN</td>\n",
       "      <td>NaN</td>\n",
       "      <td>12645.808131</td>\n",
       "      <td>0.0</td>\n",
       "      <td>113542</td>\n",
       "      <td>9045383.bin</td>\n",
       "      <td>2.266066e+04</td>\n",
       "      <td>2.228425e+04</td>\n",
       "      <td>False</td>\n",
       "    </tr>\n",
       "  </tbody>\n",
       "</table>\n",
       "<p>102497 rows × 17 columns</p>\n",
       "</div>"
      ],
      "text/plain": [
       "        EMcrossnear  EMfracstdnear  EPstdnear  MMRstrengthnear  EMcrossfar  \\\n",
       "0          0.060234       0.029994   0.001160         0.513338    0.504063   \n",
       "1          0.080547       0.017239   0.000138         0.432211    0.240504   \n",
       "2          0.129660       0.028790   0.001050         1.042844    1.001981   \n",
       "3          0.406112       0.038497   0.001201         0.267824    0.427768   \n",
       "4          0.059897       0.026167   0.001919         0.285146    0.257596   \n",
       "...             ...            ...        ...              ...         ...   \n",
       "102492     0.089252       0.275075   0.011026         0.046877    0.310694   \n",
       "102493     0.082222       0.049940   0.016289         0.614960    0.664222   \n",
       "102494     0.131799       0.027696   0.001457         0.660450    0.366664   \n",
       "102495     0.209454       0.090838   0.010214         1.438882    0.395073   \n",
       "102496     0.182523            NaN        NaN              NaN    0.430482   \n",
       "\n",
       "        EMfracstdfar  EPstdfar  MMRstrengthfar      MEGNO   MEGNOstd  \\\n",
       "0           0.001808  0.000559             NaN   1.991687   0.003411   \n",
       "1           0.008924  0.002141        0.008266   1.994730   0.003807   \n",
       "2           0.000465  0.000964        0.010449   1.975746   0.015904   \n",
       "3           0.037941  0.006196        0.013943   2.002463   0.000548   \n",
       "4           0.052339  0.001386        0.032904   1.805866   0.080916   \n",
       "...              ...       ...             ...        ...        ...   \n",
       "102492      0.033706  0.000990        1.102392  76.243870  20.441126   \n",
       "102493      0.031330  0.003745             NaN   1.998822   0.003453   \n",
       "102494      0.067480  0.020412        0.005440   7.135916   1.918209   \n",
       "102495      0.102280  0.038515        0.041145   2.117164   0.088393   \n",
       "102496           NaN       NaN             NaN        NaN        NaN   \n",
       "\n",
       "                Tmax  InitialStable  Unnamed: 0    runstring  \\\n",
       "0       20982.207221            1.0           0  0000000.bin   \n",
       "1       10000.000000            1.0           1  0000001.bin   \n",
       "2       10273.032450            1.0           2  0000002.bin   \n",
       "3       12772.209007            1.0           3  0000003.bin   \n",
       "4       10000.000000            1.0           4  0000004.bin   \n",
       "...              ...            ...         ...          ...   \n",
       "102492  10123.428805            1.0      113537  9044761.bin   \n",
       "102493  10000.000000            1.0      113538  9045377.bin   \n",
       "102494  10000.000000            1.0      113540  9045380.bin   \n",
       "102495  10000.000000            1.0      113541  9045382.bin   \n",
       "102496  12645.808131            0.0      113542  9045383.bin   \n",
       "\n",
       "        instability_time  shadow_instability_time  Stable  \n",
       "0           1.545872e+06             3.063700e+06   False  \n",
       "1           9.990000e+08             9.990000e+08    True  \n",
       "2           9.990000e+08             9.990000e+08    True  \n",
       "3           2.287671e+06             8.392234e+06   False  \n",
       "4           9.668931e+05             3.380350e+05   False  \n",
       "...                  ...                      ...     ...  \n",
       "102492      6.303165e+04             6.470086e+04   False  \n",
       "102493      6.990387e+05             8.267916e+05   False  \n",
       "102494      1.193822e+07             3.363291e+07   False  \n",
       "102495      2.064407e+08             4.316851e+07   False  \n",
       "102496      2.266066e+04             2.228425e+04   False  \n",
       "\n",
       "[102497 rows x 17 columns]"
      ]
     },
     "execution_count": 13,
     "metadata": {},
     "output_type": "execute_result"
    }
   ],
   "source": [
    "dataset"
   ]
  },
  {
   "cell_type": "markdown",
   "metadata": {},
   "source": [
    "We can then save the new training data spreadsheet."
   ]
  },
  {
   "cell_type": "code",
   "execution_count": 14,
   "metadata": {},
   "outputs": [],
   "source": [
    "dataset.to_csv(datapath+'TmaxOr1e4.csv')"
   ]
  }
 ],
 "metadata": {
  "kernelspec": {
   "display_name": "Python 3 (ipykernel)",
   "language": "python",
   "name": "python3"
  },
  "language_info": {
   "codemirror_mode": {
    "name": "ipython",
    "version": 3
   },
   "file_extension": ".py",
   "mimetype": "text/x-python",
   "name": "python",
   "nbconvert_exporter": "python",
   "pygments_lexer": "ipython3",
   "version": "3.10.13"
  }
 },
 "nbformat": 4,
 "nbformat_minor": 2
}
