{
 "cells": [
  {
   "cell_type": "code",
   "execution_count": 1,
   "metadata": {},
   "outputs": [],
   "source": [
    "import numpy as np\n",
    "import matplotlib.pyplot as plt\n",
    "import pandas as pd\n",
    "from sklearn import metrics\n",
    "import xgboost as xgb\n",
    "from xgboost.sklearn import XGBClassifier\n",
    "from hyperopt import hp, fmin, tpe, STATUS_OK, Trials\n",
    "import hyperopt\n",
    "from sklearn import metrics\n",
    "from sklearn.metrics import roc_curve, confusion_matrix, auc\n",
    "import sys\n",
    "sys.path.append('../spock/')\n",
    "try:\n",
    "    plt.style.use('paper')\n",
    "except:\n",
    "    pass\n",
    "%matplotlib inline"
   ]
  },
  {
   "cell_type": "code",
   "execution_count": 2,
   "metadata": {},
   "outputs": [],
   "source": [
    "\n",
    "#load datapath for clean training data\n",
    "datapath = '../../cleanData/csvs/resonant/dtTests/'\n",
    "TsecData = ['0-015.csv','0-03.csv','0-05.csv','0-075.csv','0-1.csv','0-15.csv','0-2.csv']"
   ]
  },
  {
   "cell_type": "code",
   "execution_count": 3,
   "metadata": {},
   "outputs": [],
   "source": [
    "#here we will specify the features we will use\n",
    "near = ['EMcrossnear', 'EMfracstdnear', 'EPstdnear', 'MMRstrengthnear']\n",
    "far = ['EMcrossfar', 'EMfracstdfar', 'EPstdfar', 'MMRstrengthfar']\n",
    "megno = ['MEGNO', 'MEGNOstd']\n",
    "\n",
    "features = near + far + megno + ['Tsec']"
   ]
  },
  {
   "cell_type": "code",
   "execution_count": 4,
   "metadata": {},
   "outputs": [],
   "source": [
    "def train_test(dataset,features):\n",
    "    '''divides the dataset into 80% training and 20% testing and returns training/testing sets'''\n",
    "    Nrows = int(0.8*dataset.shape[0])\n",
    "    train = dataset.iloc[:Nrows, :]\n",
    "    test = dataset.iloc[Nrows:, :]\n",
    "    #remove testing systems that go unstable in 1e4 orbits\n",
    "\n",
    "    test = test.drop(test[test['InitialStable']==False].index)\n",
    "    return train[features], train['Stable'], test[features], test['Stable']"
   ]
  },
  {
   "cell_type": "code",
   "execution_count": 5,
   "metadata": {},
   "outputs": [],
   "source": [
    "def ROC_curve( model, x,y):\n",
    "    preds = model.predict_proba(x)[:,1]\n",
    "    fpr, tpr, ROCthresholds = roc_curve(y, preds)\n",
    "    roc_auc = metrics.roc_auc_score(y, preds)\n",
    "    return roc_auc, fpr, tpr, ROCthresholds"
   ]
  },
  {
   "cell_type": "code",
   "execution_count": 6,
   "metadata": {},
   "outputs": [],
   "source": [
    "def getPerformance(datasheet):\n",
    "    #we will first read the specified datasheet\n",
    "    dataset = pd.read_csv(datasheet)\n",
    "    dataset = dataset.drop(columns=['Unnamed: 0','Unnamed: 0.1']) #we will drop junk columns\n",
    "    #we can now split up the data into training and testing\n",
    "    trainX, trainY, testX, testY = train_test(dataset, features)\n",
    "    #define the dataset specific stable/unstable ratio\n",
    "    trainingBalance = trainY.value_counts()[False]/trainY.value_counts()[True]\n",
    "    # we will define a new XGBoost model using the parameters found for the normal integrations\n",
    "    model = XGBClassifier(learning_rate = 0.05, \n",
    "                         max_depth = 13, \n",
    "                         subsample = 0.95,\n",
    "                         min_child_weight = 5,\n",
    "                         n_estimators = 100,\n",
    "                         )\n",
    "    #we can now fit the model to training data\n",
    "    model.fit(trainX,trainY)\n",
    "    #determine the performance data\n",
    "    roc_auc, fpr, tpr, ROCthresholds = ROC_curve(model, testX, testY)\n",
    "    #we will next determine the FPR when our TPR is 0.9\n",
    "    tprthreshindex = np.where(tpr >=0.9)[0][0]\n",
    "    falsePos = fpr[tprthreshindex]\n",
    "    #return AUC and FPR\n",
    "    return roc_auc,falsePos"
   ]
  },
  {
   "cell_type": "code",
   "execution_count": 7,
   "metadata": {},
   "outputs": [
    {
     "name": "stdout",
     "output_type": "stream",
     "text": [
      "CPU times: user 7min 41s, sys: 12.3 s, total: 7min 53s\n",
      "Wall time: 7.8 s\n"
     ]
    }
   ],
   "source": [
    "%%time\n",
    "dtList = [0.015,0.03,0.05,0.075,0.1,0.15, 0.2]\n",
    "times = [84.3,44.5, 28.33, 20.1, 16,11, 6.66]\n",
    "TsecAUC = []\n",
    "TsecFPR = []\n",
    "twoTsecAUC = []\n",
    "twoTsecFPR = []\n",
    "#iterate through all Tsec data\n",
    "for path in TsecData:\n",
    "    auc,fpr = getPerformance(datapath+path)\n",
    "    TsecAUC.append(auc)\n",
    "    TsecFPR.append(fpr)\n"
   ]
  },
  {
   "cell_type": "code",
   "execution_count": 10,
   "metadata": {},
   "outputs": [
    {
     "name": "stderr",
     "output_type": "stream",
     "text": [
      "No artists with labels found to put in legend.  Note that artists whose label start with an underscore are ignored when legend() is called with no argument.\n",
      "No artists with labels found to put in legend.  Note that artists whose label start with an underscore are ignored when legend() is called with no argument.\n"
     ]
    },
    {
     "data": {
      "image/png": "[encoded data removed]",
      "text/plain": [
       "<Figure size 1050x300 with 2 Axes>"
      ]
     },
     "metadata": {},
     "output_type": "display_data"
    }
   ],
   "source": [
    "#We can plot our results\n",
    "fig, (ax1, ax2) = plt.subplots(1, 2) \n",
    "ax1.scatter(dtList, TsecAUC, label='_Intigrated to 1Tsec')\n",
    "ax1.set_xlabel('integration time step')\n",
    "ax1.set_ylabel('model testing AUC')\n",
    "ax1.legend()\n",
    "ax2.scatter(dtList, TsecFPR,  label='_Intigrated to 1Tsec')\n",
    "ax2.set_xlabel('integration time step')\n",
    "ax2.set_ylabel('model testing FPR')\n",
    "ax2.legend()\n",
    "fig.set_figheight(3)\n",
    "fig.set_figwidth(10.5)\n",
    "\n"
   ]
  },
  {
   "cell_type": "code",
   "execution_count": null,
   "metadata": {},
   "outputs": [],
   "source": []
  },
  {
   "cell_type": "code",
   "execution_count": null,
   "metadata": {},
   "outputs": [],
   "source": []
  }
 ],
 "metadata": {
  "kernelspec": {
   "display_name": "ethadhani",
   "language": "python",
   "name": "python3"
  },
  "language_info": {
   "codemirror_mode": {
    "name": "ipython",
    "version": 3
   },
   "file_extension": ".py",
   "mimetype": "text/x-python",
   "name": "python",
   "nbconvert_exporter": "python",
   "pygments_lexer": "ipython3",
   "version": "3.10.13"
  }
 },
 "nbformat": 4,
 "nbformat_minor": 2
}
