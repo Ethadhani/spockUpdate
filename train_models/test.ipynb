{
 "cells": [
  {
   "cell_type": "code",
   "execution_count": 1,
   "metadata": {},
   "outputs": [],
   "source": [
    "import numpy as np\n",
    "import matplotlib.pyplot as plt\n",
    "import pandas as pd\n",
    "from sklearn import metrics\n",
    "import xgboost as xgb\n",
    "from xgboost.sklearn import XGBClassifier\n",
    "from hyperopt import hp, fmin, tpe, STATUS_OK, Trials\n",
    "import hyperopt\n",
    "import sys\n",
    "sys.path.append('../spock/')\n",
    "try:\n",
    "    plt.style.use('paper')\n",
    "except:\n",
    "    pass\n",
    "%matplotlib inline"
   ]
  },
  {
   "cell_type": "code",
   "execution_count": 2,
   "metadata": {},
   "outputs": [],
   "source": [
    "new = pd.read_csv('../training_data/resonant/ybafix_tmax_res.csv')\n",
    "old = pd.read_csv('../training_data/resonant/ybaoldfeatures_res.csv')\n",
    "labels = pd.read_csv('../training_data/resonant/yba_labels.csv')\n"
   ]
  },
  {
   "cell_type": "code",
   "execution_count": 11,
   "metadata": {},
   "outputs": [
    {
     "data": {
      "text/plain": [
       "11191"
      ]
     },
     "execution_count": 11,
     "metadata": {},
     "output_type": "execute_result"
    }
   ],
   "source": [
    "new['MEGNO'].isna().sum()"
   ]
  },
  {
   "cell_type": "code",
   "execution_count": 12,
   "metadata": {},
   "outputs": [
    {
     "data": {
      "text/plain": [
       "30421"
      ]
     },
     "execution_count": 12,
     "metadata": {},
     "output_type": "execute_result"
    }
   ],
   "source": [
    "old['MEGNO'].isna().sum()"
   ]
  },
  {
   "cell_type": "code",
   "execution_count": 13,
   "metadata": {},
   "outputs": [],
   "source": [
    "dataset = pd.DataFrame.join(old,labels['Stable'])"
   ]
  },
  {
   "cell_type": "code",
   "execution_count": 15,
   "metadata": {},
   "outputs": [
    {
     "data": {
      "text/html": [
       "<div>\n",
       "<style scoped>\n",
       "    .dataframe tbody tr th:only-of-type {\n",
       "        vertical-align: middle;\n",
       "    }\n",
       "\n",
       "    .dataframe tbody tr th {\n",
       "        vertical-align: top;\n",
       "    }\n",
       "\n",
       "    .dataframe thead th {\n",
       "        text-align: right;\n",
       "    }\n",
       "</style>\n",
       "<table border=\"1\" class=\"dataframe\">\n",
       "  <thead>\n",
       "    <tr style=\"text-align: right;\">\n",
       "      <th></th>\n",
       "      <th>EMcrossnear</th>\n",
       "      <th>EMfracstdnear</th>\n",
       "      <th>EPstdnear</th>\n",
       "      <th>MMRstrengthnear</th>\n",
       "      <th>EMcrossfar</th>\n",
       "      <th>EMfracstdfar</th>\n",
       "      <th>EPstdfar</th>\n",
       "      <th>MMRstrengthfar</th>\n",
       "      <th>MEGNO</th>\n",
       "      <th>MEGNOstd</th>\n",
       "    </tr>\n",
       "  </thead>\n",
       "  <tbody>\n",
       "    <tr>\n",
       "      <th>0</th>\n",
       "      <td>0.060234</td>\n",
       "      <td>0.030043</td>\n",
       "      <td>0.000283</td>\n",
       "      <td>0.491222</td>\n",
       "      <td>0.504063</td>\n",
       "      <td>0.000882</td>\n",
       "      <td>0.000330</td>\n",
       "      <td>NaN</td>\n",
       "      <td>99.671099</td>\n",
       "      <td>21.854886</td>\n",
       "    </tr>\n",
       "    <tr>\n",
       "      <th>1</th>\n",
       "      <td>0.080547</td>\n",
       "      <td>0.017239</td>\n",
       "      <td>0.000138</td>\n",
       "      <td>0.432211</td>\n",
       "      <td>0.240504</td>\n",
       "      <td>0.008924</td>\n",
       "      <td>0.002141</td>\n",
       "      <td>0.008266</td>\n",
       "      <td>161.968909</td>\n",
       "      <td>40.989718</td>\n",
       "    </tr>\n",
       "    <tr>\n",
       "      <th>2</th>\n",
       "      <td>0.129660</td>\n",
       "      <td>0.028785</td>\n",
       "      <td>0.000989</td>\n",
       "      <td>1.000486</td>\n",
       "      <td>1.001981</td>\n",
       "      <td>0.000513</td>\n",
       "      <td>0.000936</td>\n",
       "      <td>0.010448</td>\n",
       "      <td>167.402468</td>\n",
       "      <td>51.758073</td>\n",
       "    </tr>\n",
       "    <tr>\n",
       "      <th>3</th>\n",
       "      <td>0.406112</td>\n",
       "      <td>0.038118</td>\n",
       "      <td>0.000942</td>\n",
       "      <td>0.348009</td>\n",
       "      <td>0.427768</td>\n",
       "      <td>0.035020</td>\n",
       "      <td>0.003593</td>\n",
       "      <td>0.012846</td>\n",
       "      <td>NaN</td>\n",
       "      <td>NaN</td>\n",
       "    </tr>\n",
       "    <tr>\n",
       "      <th>4</th>\n",
       "      <td>0.059897</td>\n",
       "      <td>0.026167</td>\n",
       "      <td>0.001919</td>\n",
       "      <td>0.285146</td>\n",
       "      <td>0.257596</td>\n",
       "      <td>0.052339</td>\n",
       "      <td>0.001386</td>\n",
       "      <td>0.032904</td>\n",
       "      <td>NaN</td>\n",
       "      <td>NaN</td>\n",
       "    </tr>\n",
       "    <tr>\n",
       "      <th>...</th>\n",
       "      <td>...</td>\n",
       "      <td>...</td>\n",
       "      <td>...</td>\n",
       "      <td>...</td>\n",
       "      <td>...</td>\n",
       "      <td>...</td>\n",
       "      <td>...</td>\n",
       "      <td>...</td>\n",
       "      <td>...</td>\n",
       "      <td>...</td>\n",
       "    </tr>\n",
       "    <tr>\n",
       "      <th>113538</th>\n",
       "      <td>0.082222</td>\n",
       "      <td>0.049940</td>\n",
       "      <td>0.016289</td>\n",
       "      <td>0.614960</td>\n",
       "      <td>0.664222</td>\n",
       "      <td>0.031330</td>\n",
       "      <td>0.003745</td>\n",
       "      <td>NaN</td>\n",
       "      <td>76.212769</td>\n",
       "      <td>21.217672</td>\n",
       "    </tr>\n",
       "    <tr>\n",
       "      <th>113539</th>\n",
       "      <td>0.251338</td>\n",
       "      <td>0.016063</td>\n",
       "      <td>0.002925</td>\n",
       "      <td>0.250122</td>\n",
       "      <td>0.272822</td>\n",
       "      <td>0.002159</td>\n",
       "      <td>0.000486</td>\n",
       "      <td>0.016374</td>\n",
       "      <td>61.260204</td>\n",
       "      <td>9.154976</td>\n",
       "    </tr>\n",
       "    <tr>\n",
       "      <th>113540</th>\n",
       "      <td>0.131799</td>\n",
       "      <td>0.027693</td>\n",
       "      <td>0.001458</td>\n",
       "      <td>0.660450</td>\n",
       "      <td>0.366664</td>\n",
       "      <td>0.067472</td>\n",
       "      <td>0.020413</td>\n",
       "      <td>0.005440</td>\n",
       "      <td>62.894058</td>\n",
       "      <td>20.937465</td>\n",
       "    </tr>\n",
       "    <tr>\n",
       "      <th>113541</th>\n",
       "      <td>0.209454</td>\n",
       "      <td>0.090838</td>\n",
       "      <td>0.010214</td>\n",
       "      <td>1.438882</td>\n",
       "      <td>0.395073</td>\n",
       "      <td>0.102280</td>\n",
       "      <td>0.038515</td>\n",
       "      <td>0.041145</td>\n",
       "      <td>63.330790</td>\n",
       "      <td>17.316868</td>\n",
       "    </tr>\n",
       "    <tr>\n",
       "      <th>113542</th>\n",
       "      <td>0.182523</td>\n",
       "      <td>0.129844</td>\n",
       "      <td>0.040866</td>\n",
       "      <td>0.052307</td>\n",
       "      <td>0.430482</td>\n",
       "      <td>0.050120</td>\n",
       "      <td>0.010405</td>\n",
       "      <td>NaN</td>\n",
       "      <td>NaN</td>\n",
       "      <td>NaN</td>\n",
       "    </tr>\n",
       "  </tbody>\n",
       "</table>\n",
       "<p>113543 rows × 10 columns</p>\n",
       "</div>"
      ],
      "text/plain": [
       "        EMcrossnear  EMfracstdnear  EPstdnear  MMRstrengthnear  EMcrossfar  \\\n",
       "0          0.060234       0.030043   0.000283         0.491222    0.504063   \n",
       "1          0.080547       0.017239   0.000138         0.432211    0.240504   \n",
       "2          0.129660       0.028785   0.000989         1.000486    1.001981   \n",
       "3          0.406112       0.038118   0.000942         0.348009    0.427768   \n",
       "4          0.059897       0.026167   0.001919         0.285146    0.257596   \n",
       "...             ...            ...        ...              ...         ...   \n",
       "113538     0.082222       0.049940   0.016289         0.614960    0.664222   \n",
       "113539     0.251338       0.016063   0.002925         0.250122    0.272822   \n",
       "113540     0.131799       0.027693   0.001458         0.660450    0.366664   \n",
       "113541     0.209454       0.090838   0.010214         1.438882    0.395073   \n",
       "113542     0.182523       0.129844   0.040866         0.052307    0.430482   \n",
       "\n",
       "        EMfracstdfar  EPstdfar  MMRstrengthfar       MEGNO   MEGNOstd  \n",
       "0           0.000882  0.000330             NaN   99.671099  21.854886  \n",
       "1           0.008924  0.002141        0.008266  161.968909  40.989718  \n",
       "2           0.000513  0.000936        0.010448  167.402468  51.758073  \n",
       "3           0.035020  0.003593        0.012846         NaN        NaN  \n",
       "4           0.052339  0.001386        0.032904         NaN        NaN  \n",
       "...              ...       ...             ...         ...        ...  \n",
       "113538      0.031330  0.003745             NaN   76.212769  21.217672  \n",
       "113539      0.002159  0.000486        0.016374   61.260204   9.154976  \n",
       "113540      0.067472  0.020413        0.005440   62.894058  20.937465  \n",
       "113541      0.102280  0.038515        0.041145   63.330790  17.316868  \n",
       "113542      0.050120  0.010405             NaN         NaN        NaN  \n",
       "\n",
       "[113543 rows x 10 columns]"
      ]
     },
     "execution_count": 15,
     "metadata": {},
     "output_type": "execute_result"
    }
   ],
   "source": [
    "dataset[features]"
   ]
  },
  {
   "cell_type": "code",
   "execution_count": 4,
   "metadata": {},
   "outputs": [],
   "source": [
    "def train_test(dataset,features):\n",
    "    '''divides the dataset into 80% training and 20% testing and returns training/testing sets'''\n",
    "    Nrows = int(0.8*dataset.shape[0])\n",
    "    train = dataset.iloc[:Nrows, :]\n",
    "    test = dataset.iloc[Nrows:, :]\n",
    "    #remove testing systems that go unstable in 1e4 orbits\n",
    "    #test = test.drop(test[test['InitialStable']==False].index)\n",
    "    return train[features], train['Stable'], test[features], test['Stable']"
   ]
  },
  {
   "cell_type": "code",
   "execution_count": 5,
   "metadata": {},
   "outputs": [],
   "source": [
    "near = ['EMcrossnear', 'EMfracstdnear', 'EPstdnear', 'MMRstrengthnear']\n",
    "far = ['EMcrossfar', 'EMfracstdfar', 'EPstdfar', 'MMRstrengthfar']\n",
    "megno = ['MEGNO', 'MEGNOstd']\n",
    "\n",
    "features = near + far + megno\n",
    "\n",
    "trainX, trainY, testX, testY = train_test(dataset, features)\n",
    "\n",
    "dtrain = xgb.DMatrix(trainX, trainY)\n",
    "dtest = xgb.DMatrix(testX, testY)"
   ]
  },
  {
   "cell_type": "code",
   "execution_count": 6,
   "metadata": {},
   "outputs": [],
   "source": [
    "trainingBalance = trainY.value_counts()[False]/trainY.value_counts()[True]"
   ]
  },
  {
   "cell_type": "code",
   "execution_count": 7,
   "metadata": {},
   "outputs": [],
   "source": [
    "from sklearn import metrics\n",
    "from sklearn.metrics import roc_curve, confusion_matrix, auc\n",
    "def ROC_curve( model, x,y):\n",
    "    preds = model.predict_proba(x)[:,1]\n",
    "    fpr, tpr, ROCthresholds = roc_curve(y, preds)\n",
    "    roc_auc = metrics.roc_auc_score(y, preds)\n",
    "    return roc_auc, fpr, tpr, ROCthresholds"
   ]
  },
  {
   "cell_type": "code",
   "execution_count": 8,
   "metadata": {},
   "outputs": [
    {
     "name": "stdout",
     "output_type": "stream",
     "text": [
      "[23:19:53] WARNING: /croot/xgboost-split_1675457761144/work/src/learner.cc:888: Found JSON model saved before XGBoost 1.6, please save the model using current version again. The support for old JSON model will be discontinued in XGBoost 2.3.\n"
     ]
    }
   ],
   "source": [
    "test = XGBClassifier()\n",
    "test.load_model('oldestspock.json')\n",
    "#'featureclassifier.json'"
   ]
  },
  {
   "cell_type": "code",
   "execution_count": 17,
   "metadata": {},
   "outputs": [
    {
     "data": {
      "text/plain": [
       "Text(0.5, 1.0, 'ROC curve (AUC = 0.836)')"
      ]
     },
     "execution_count": 17,
     "metadata": {},
     "output_type": "execute_result"
    },
    {
     "data": {
      "image/png": "[encoded data removed]",
      "text/plain": [
       "<Figure size 640x480 with 1 Axes>"
      ]
     },
     "metadata": {},
     "output_type": "display_data"
    }
   ],
   "source": [
    "roc_auc, fpr, tpr, ROCthresholds = ROC_curve(test, testX, testY)\n",
    "\n",
    "fig, ax = plt.subplots()\n",
    "ax.plot(fpr, tpr)\n",
    "ax.plot([0, 1], [0, 1], 'k--')\n",
    "ax.set_xlim([0.0, 1.0])\n",
    "ax.set_ylim([0.0, 1.0])\n",
    "ax.set_xlabel('False Positive Rate')\n",
    "ax.set_ylabel('True Positive Rate')\n",
    "ax.set_title('ROC curve (AUC = {0:.3f})'.format(roc_auc))"
   ]
  },
  {
   "cell_type": "code",
   "execution_count": null,
   "metadata": {},
   "outputs": [],
   "source": []
  }
 ],
 "metadata": {
  "kernelspec": {
   "display_name": "ethadhani",
   "language": "python",
   "name": "python3"
  },
  "language_info": {
   "codemirror_mode": {
    "name": "ipython",
    "version": 3
   },
   "file_extension": ".py",
   "mimetype": "text/x-python",
   "name": "python",
   "nbconvert_exporter": "python",
   "pygments_lexer": "ipython3",
   "version": "3.10.13"
  }
 },
 "nbformat": 4,
 "nbformat_minor": 2
}
