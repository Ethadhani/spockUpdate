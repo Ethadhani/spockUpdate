{
 "cells": [
  {
   "cell_type": "markdown",
   "metadata": {},
   "source": [
    "# Try implementation two models based on asymmetry  "
   ]
  },
  {
   "cell_type": "code",
   "execution_count": 1,
   "metadata": {},
   "outputs": [],
   "source": [
    "import numpy as np\n",
    "import matplotlib.pyplot as plt\n",
    "import pandas as pd\n",
    "from sklearn import metrics\n",
    "import xgboost as xgb\n",
    "from xgboost.sklearn import XGBClassifier\n",
    "from hyperopt import hp, fmin, tpe, STATUS_OK, Trials\n",
    "import hyperopt\n",
    "import sys\n",
    "sys.path.append('../spock/')\n",
    "try:\n",
    "    plt.style.use('paper')\n",
    "except:\n",
    "    pass\n",
    "%matplotlib inline"
   ]
  },
  {
   "cell_type": "markdown",
   "metadata": {},
   "source": [
    "Start by loading the training data generated with generate_FC_data.ipynb"
   ]
  },
  {
   "cell_type": "code",
   "execution_count": null,
   "metadata": {},
   "outputs": [],
   "source": [
    "#load datapath for clean training data that is generated\n",
    "datapath = '../../cleanData/csvs/resonant/'\n",
    "\n",
    "dataset = pd.read_csv(datapath+'24-3-25-fillFac.csv')\n",
    "#remove junk columns\n",
    "dataset = dataset.drop(columns=['Unnamed: 0','Unnamed: 0.1'])"
   ]
  },
  {
   "cell_type": "markdown",
   "metadata": {},
   "source": [
    "We can then split the data into training and testing sets, note, we will remove systems that go unstable in 1e4 orbits from the testing set"
   ]
  },
  {
   "cell_type": "code",
   "execution_count": 3,
   "metadata": {},
   "outputs": [],
   "source": [
    "def train_test(dataset,features):\n",
    "    '''divides the dataset into 80% training and 20% testing and returns training/testing sets'''\n",
    "    Nrows = int(0.8*dataset.shape[0])\n",
    "    train = dataset.iloc[:Nrows, :]\n",
    "    test = dataset.iloc[Nrows:, :]\n",
    "    #remove testing systems that go unstable in short integration phase\n",
    "\n",
    "    test = test.drop(test[test['InitialStable']==False].index)\n",
    "    return train[features], train['Stable'], test[features], test['Stable'], test['instability_time']"
   ]
  },
  {
   "cell_type": "markdown",
   "metadata": {},
   "source": [
    "We can then define the features of interest and dividing training and testing sets"
   ]
  },
  {
   "cell_type": "code",
   "execution_count": null,
   "metadata": {},
   "outputs": [],
   "source": [
    "near = ['EMcrossnear', 'EMfracstdnear', 'EPstdnear', 'MMRstrengthnear']\n",
    "far = ['EMcrossfar', 'EMfracstdfar', 'EPstdfar', 'MMRstrengthfar']\n",
    "megno = ['MEGNO', 'MEGNOstd']\n",
    "\n",
    "features = near + far + megno + ['Tsec', '3BRfill', '2BRfillnear', '2BRfillfar']\n",
    "\n",
    "trainX, trainY, testX, testY, testInstability = train_test(dataset, features)"
   ]
  },
  {
   "cell_type": "markdown",
   "metadata": {},
   "source": [
    "** Split the training data based on spacing specification **"
   ]
  },
  {
   "cell_type": "code",
   "execution_count": null,
   "metadata": {},
   "outputs": [],
   "source": [
    "data = pd.concat([trainX, trainY], axis=1)"
   ]
  },
  {
   "cell_type": "code",
   "execution_count": null,
   "metadata": {},
   "outputs": [],
   "source": [
    "# define where we draw the line when using crossing eccentricity\n",
    "spaceL = 1 - (0.5)**(2/3)\n",
    "dataeq = trainX[(data['EMcrossnear'] < spaceL | data['EMcrossfar'] < spaceL)]\n",
    "datati = trainX[(data['EMcrossnear'] >= spaceL & data['EMcrossfar'] >= spaceL)]\n"
   ]
  },
  {
   "cell_type": "code",
   "execution_count": null,
   "metadata": {},
   "outputs": [],
   "source": [
    "modeleq = XGBClassifier(learning_rate = 0.05, \n",
    "                         max_depth = 13, \n",
    "                         subsample = 0.95,\n",
    "                         min_child_weight = 5,\n",
    "                         n_estimators = 100,\n",
    "                         )\n",
    "modeleq.fit(dataeq[features],dataeq['Stable'])"
   ]
  },
  {
   "cell_type": "code",
   "execution_count": null,
   "metadata": {},
   "outputs": [],
   "source": [
    "modelti = XGBClassifier(learning_rate = 0.05, \n",
    "                         max_depth = 13, \n",
    "                         subsample = 0.95,\n",
    "                         min_child_weight = 5,\n",
    "                         n_estimators = 100,\n",
    "                         )\n",
    "modelti.fit(datati[features],datati['Stable'])"
   ]
  },
  {
   "cell_type": "markdown",
   "metadata": {},
   "source": [
    "# tight systems"
   ]
  },
  {
   "cell_type": "code",
   "execution_count": null,
   "metadata": {},
   "outputs": [],
   "source": [
    "feat_imp = pd.Series(modelti.get_booster().get_fscore()).sort_values(ascending=False)\n",
    "ax = feat_imp.plot.barh(figsize=(12,6), fontsize=24)\n",
    "ax.set_xlabel('Feature Importance Score', fontsize=24)\n",
    "ax.invert_yaxis()"
   ]
  },
  {
   "cell_type": "markdown",
   "metadata": {},
   "source": [
    "# equal systems"
   ]
  },
  {
   "cell_type": "code",
   "execution_count": null,
   "metadata": {},
   "outputs": [],
   "source": [
    "feat_imp = pd.Series(modeleq.get_booster().get_fscore()).sort_values(ascending=False)\n",
    "ax = feat_imp.plot.barh(figsize=(12,6), fontsize=24)\n",
    "ax.set_xlabel('Feature Importance Score', fontsize=24)\n",
    "ax.invert_yaxis()"
   ]
  },
  {
   "cell_type": "markdown",
   "metadata": {},
   "source": [
    "# now try on testing"
   ]
  },
  {
   "cell_type": "code",
   "execution_count": null,
   "metadata": {},
   "outputs": [],
   "source": [
    "from sklearn import metrics\n",
    "from sklearn.metrics import roc_curve, confusion_matrix, auc\n",
    "def ROC_curve( model, x,y):\n",
    "    preds = model.predict_proba(x)[:,1]\n",
    "    fpr, tpr, ROCthresholds = roc_curve(y, preds)\n",
    "    roc_auc = metrics.roc_auc_score(y, preds)\n",
    "    return roc_auc, fpr, tpr, ROCthresholds"
   ]
  },
  {
   "cell_type": "code",
   "execution_count": null,
   "metadata": {},
   "outputs": [],
   "source": [
    "roc_auc, fpr, tpr, ROCthresholds = ROC_curve(model, testX.drop(columns=exclude), testY.drop(columns=exclude))\n"
   ]
  }
 ],
 "metadata": {
  "kernelspec": {
   "display_name": "ethadhani",
   "language": "python",
   "name": "python3"
  },
  "language_info": {
   "codemirror_mode": {
    "name": "ipython",
    "version": 3
   },
   "file_extension": ".py",
   "mimetype": "text/x-python",
   "name": "python",
   "nbconvert_exporter": "python",
   "pygments_lexer": "ipython3",
   "version": "3.10.13"
  }
 },
 "nbformat": 4,
 "nbformat_minor": 2
}
