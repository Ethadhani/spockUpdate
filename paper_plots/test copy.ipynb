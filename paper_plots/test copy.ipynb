{
 "cells": [
  {
   "cell_type": "code",
   "execution_count": 1,
   "metadata": {},
   "outputs": [],
   "source": [
    "import numpy as np \n",
    "import scipy as sci \n",
    "from scipy.optimize import curve_fit\n",
    "import pandas as pd"
   ]
  },
  {
   "cell_type": "markdown",
   "metadata": {},
   "source": [
    "dataset = pd.read_csv(datapath+'noInt.csv')\n"
   ]
  },
  {
   "cell_type": "code",
   "execution_count": 2,
   "metadata": {},
   "outputs": [],
   "source": [
    "datapath = '../../cleanData/csvs/resonant/'\n"
   ]
  },
  {
   "cell_type": "code",
   "execution_count": 14,
   "metadata": {},
   "outputs": [],
   "source": [
    "dataset = pd.read_csv(datapath+'4-8-25-thetaSTD.csv')\n"
   ]
  },
  {
   "cell_type": "code",
   "execution_count": 15,
   "metadata": {},
   "outputs": [],
   "source": [
    "dataset['nearTheta'] = dataset['thetaVecMagnear'] * np.abs(dataset['thetaVecAngnear'])\n",
    "dataset['farTheta'] = dataset['thetaVecMagfar'] * np.abs(dataset['thetaVecAngfar'])"
   ]
  },
  {
   "cell_type": "code",
   "execution_count": 16,
   "metadata": {},
   "outputs": [],
   "source": [
    "df = dataset.dropna()\n"
   ]
  },
  {
   "cell_type": "code",
   "execution_count": 17,
   "metadata": {},
   "outputs": [],
   "source": [
    "lab = ['Tsec', '3BRfill', '2BRfillnear', '2BRfillfar', 'nearTheta', 'farTheta']"
   ]
  },
  {
   "cell_type": "code",
   "execution_count": null,
   "metadata": {},
   "outputs": [],
   "source": [
    "dfT = df[(df['Stable']==True)]\n",
    "dfF = df[(df['Stable']==False)]\n",
    "train = pd.concat((dfF.iloc[:7000],dfT.iloc[:7000]))\n",
    "test = pd.concat((dfF.iloc[7000:14000],dfT.iloc[7000:]))\n"
   ]
  },
  {
   "cell_type": "code",
   "execution_count": null,
   "metadata": {},
   "outputs": [],
   "source": [
    "\n"
   ]
  },
  {
   "cell_type": "code",
   "execution_count": null,
   "metadata": {},
   "outputs": [],
   "source": []
  },
  {
   "cell_type": "code",
   "execution_count": null,
   "metadata": {},
   "outputs": [],
   "source": []
  },
  {
   "cell_type": "code",
   "execution_count": 22,
   "metadata": {},
   "outputs": [
    {
     "data": {
      "text/html": [
       "<div>\n",
       "<style scoped>\n",
       "    .dataframe tbody tr th:only-of-type {\n",
       "        vertical-align: middle;\n",
       "    }\n",
       "\n",
       "    .dataframe tbody tr th {\n",
       "        vertical-align: top;\n",
       "    }\n",
       "\n",
       "    .dataframe thead th {\n",
       "        text-align: right;\n",
       "    }\n",
       "</style>\n",
       "<table border=\"1\" class=\"dataframe\">\n",
       "  <thead>\n",
       "    <tr style=\"text-align: right;\">\n",
       "      <th></th>\n",
       "      <th>Unnamed: 0.1</th>\n",
       "      <th>EMcrossnear</th>\n",
       "      <th>EMfracstdnear</th>\n",
       "      <th>EPstdnear</th>\n",
       "      <th>MMRstrengthnear</th>\n",
       "      <th>2BRfillnear</th>\n",
       "      <th>thetaSTDnear</th>\n",
       "      <th>thetanear</th>\n",
       "      <th>thetaVecAngnear</th>\n",
       "      <th>thetaVecMagnear</th>\n",
       "      <th>...</th>\n",
       "      <th>MEGNOstd</th>\n",
       "      <th>Tsec</th>\n",
       "      <th>InitialStable</th>\n",
       "      <th>Unnamed: 0</th>\n",
       "      <th>runstring</th>\n",
       "      <th>instability_time</th>\n",
       "      <th>shadow_instability_time</th>\n",
       "      <th>Stable</th>\n",
       "      <th>nearTheta</th>\n",
       "      <th>farTheta</th>\n",
       "    </tr>\n",
       "  </thead>\n",
       "  <tbody>\n",
       "    <tr>\n",
       "      <th>12571</th>\n",
       "      <td>12571</td>\n",
       "      <td>0.124015</td>\n",
       "      <td>0.040466</td>\n",
       "      <td>0.008255</td>\n",
       "      <td>0.019094</td>\n",
       "      <td>0.259070</td>\n",
       "      <td>1.819892</td>\n",
       "      <td>3.125845</td>\n",
       "      <td>1.927428</td>\n",
       "      <td>0.001043</td>\n",
       "      <td>...</td>\n",
       "      <td>0.011586</td>\n",
       "      <td>40377.736838</td>\n",
       "      <td>1.0</td>\n",
       "      <td>12571</td>\n",
       "      <td>3325397.bin</td>\n",
       "      <td>1.357216e+08</td>\n",
       "      <td>3.748615e+08</td>\n",
       "      <td>False</td>\n",
       "      <td>0.002011</td>\n",
       "      <td>3.110867</td>\n",
       "    </tr>\n",
       "    <tr>\n",
       "      <th>12573</th>\n",
       "      <td>12573</td>\n",
       "      <td>0.130571</td>\n",
       "      <td>0.043724</td>\n",
       "      <td>0.000329</td>\n",
       "      <td>0.654425</td>\n",
       "      <td>1.630807</td>\n",
       "      <td>0.364618</td>\n",
       "      <td>4.729507</td>\n",
       "      <td>-3.125541</td>\n",
       "      <td>0.934560</td>\n",
       "      <td>...</td>\n",
       "      <td>0.255423</td>\n",
       "      <td>1220.122758</td>\n",
       "      <td>1.0</td>\n",
       "      <td>12573</td>\n",
       "      <td>3325400.bin</td>\n",
       "      <td>1.107181e+06</td>\n",
       "      <td>3.455854e+05</td>\n",
       "      <td>False</td>\n",
       "      <td>2.921005</td>\n",
       "      <td>1.656877</td>\n",
       "    </tr>\n",
       "    <tr>\n",
       "      <th>12575</th>\n",
       "      <td>12575</td>\n",
       "      <td>0.047505</td>\n",
       "      <td>0.025835</td>\n",
       "      <td>0.000251</td>\n",
       "      <td>0.129896</td>\n",
       "      <td>2.184365</td>\n",
       "      <td>1.829328</td>\n",
       "      <td>3.613532</td>\n",
       "      <td>-2.943334</td>\n",
       "      <td>0.374973</td>\n",
       "      <td>...</td>\n",
       "      <td>0.007537</td>\n",
       "      <td>3178.880533</td>\n",
       "      <td>1.0</td>\n",
       "      <td>12575</td>\n",
       "      <td>3325403.bin</td>\n",
       "      <td>3.866029e+05</td>\n",
       "      <td>2.895415e+05</td>\n",
       "      <td>False</td>\n",
       "      <td>1.103669</td>\n",
       "      <td>0.496083</td>\n",
       "    </tr>\n",
       "    <tr>\n",
       "      <th>12582</th>\n",
       "      <td>12582</td>\n",
       "      <td>0.151994</td>\n",
       "      <td>0.024721</td>\n",
       "      <td>0.001969</td>\n",
       "      <td>0.052933</td>\n",
       "      <td>0.212654</td>\n",
       "      <td>1.840808</td>\n",
       "      <td>3.340023</td>\n",
       "      <td>-2.986795</td>\n",
       "      <td>0.160377</td>\n",
       "      <td>...</td>\n",
       "      <td>0.271573</td>\n",
       "      <td>3888.362340</td>\n",
       "      <td>1.0</td>\n",
       "      <td>12582</td>\n",
       "      <td>3325419.bin</td>\n",
       "      <td>7.079977e+08</td>\n",
       "      <td>6.635171e+08</td>\n",
       "      <td>False</td>\n",
       "      <td>0.479013</td>\n",
       "      <td>0.072792</td>\n",
       "    </tr>\n",
       "    <tr>\n",
       "      <th>12583</th>\n",
       "      <td>12583</td>\n",
       "      <td>0.076331</td>\n",
       "      <td>0.044606</td>\n",
       "      <td>0.000424</td>\n",
       "      <td>0.041172</td>\n",
       "      <td>0.481516</td>\n",
       "      <td>1.999388</td>\n",
       "      <td>3.385175</td>\n",
       "      <td>-2.263718</td>\n",
       "      <td>0.295218</td>\n",
       "      <td>...</td>\n",
       "      <td>0.001265</td>\n",
       "      <td>8360.259951</td>\n",
       "      <td>1.0</td>\n",
       "      <td>12583</td>\n",
       "      <td>3326000.bin</td>\n",
       "      <td>4.095058e+06</td>\n",
       "      <td>1.944826e+05</td>\n",
       "      <td>False</td>\n",
       "      <td>0.668291</td>\n",
       "      <td>0.002472</td>\n",
       "    </tr>\n",
       "    <tr>\n",
       "      <th>...</th>\n",
       "      <td>...</td>\n",
       "      <td>...</td>\n",
       "      <td>...</td>\n",
       "      <td>...</td>\n",
       "      <td>...</td>\n",
       "      <td>...</td>\n",
       "      <td>...</td>\n",
       "      <td>...</td>\n",
       "      <td>...</td>\n",
       "      <td>...</td>\n",
       "      <td>...</td>\n",
       "      <td>...</td>\n",
       "      <td>...</td>\n",
       "      <td>...</td>\n",
       "      <td>...</td>\n",
       "      <td>...</td>\n",
       "      <td>...</td>\n",
       "      <td>...</td>\n",
       "      <td>...</td>\n",
       "      <td>...</td>\n",
       "      <td>...</td>\n",
       "    </tr>\n",
       "    <tr>\n",
       "      <th>102241</th>\n",
       "      <td>102241</td>\n",
       "      <td>0.165220</td>\n",
       "      <td>0.010995</td>\n",
       "      <td>0.001756</td>\n",
       "      <td>0.041770</td>\n",
       "      <td>0.099187</td>\n",
       "      <td>1.816187</td>\n",
       "      <td>3.143196</td>\n",
       "      <td>1.918624</td>\n",
       "      <td>0.000845</td>\n",
       "      <td>...</td>\n",
       "      <td>0.005806</td>\n",
       "      <td>38221.004472</td>\n",
       "      <td>1.0</td>\n",
       "      <td>102241</td>\n",
       "      <td>8936629.bin</td>\n",
       "      <td>1.000000e+09</td>\n",
       "      <td>1.000000e+09</td>\n",
       "      <td>True</td>\n",
       "      <td>0.001622</td>\n",
       "      <td>3.120674</td>\n",
       "    </tr>\n",
       "    <tr>\n",
       "      <th>102252</th>\n",
       "      <td>102252</td>\n",
       "      <td>0.081797</td>\n",
       "      <td>0.016356</td>\n",
       "      <td>0.000475</td>\n",
       "      <td>0.882172</td>\n",
       "      <td>0.503213</td>\n",
       "      <td>0.134177</td>\n",
       "      <td>4.711368</td>\n",
       "      <td>3.140577</td>\n",
       "      <td>0.991028</td>\n",
       "      <td>...</td>\n",
       "      <td>0.000824</td>\n",
       "      <td>18035.659807</td>\n",
       "      <td>1.0</td>\n",
       "      <td>102252</td>\n",
       "      <td>8937881.bin</td>\n",
       "      <td>1.000000e+09</td>\n",
       "      <td>1.000000e+09</td>\n",
       "      <td>True</td>\n",
       "      <td>3.112399</td>\n",
       "      <td>0.008389</td>\n",
       "    </tr>\n",
       "    <tr>\n",
       "      <th>102261</th>\n",
       "      <td>102261</td>\n",
       "      <td>0.142630</td>\n",
       "      <td>0.048276</td>\n",
       "      <td>0.009391</td>\n",
       "      <td>0.465563</td>\n",
       "      <td>2.240854</td>\n",
       "      <td>0.292703</td>\n",
       "      <td>4.713222</td>\n",
       "      <td>-3.140762</td>\n",
       "      <td>0.957824</td>\n",
       "      <td>...</td>\n",
       "      <td>0.000996</td>\n",
       "      <td>97654.673467</td>\n",
       "      <td>1.0</td>\n",
       "      <td>102261</td>\n",
       "      <td>8938516.bin</td>\n",
       "      <td>1.000000e+09</td>\n",
       "      <td>1.000000e+09</td>\n",
       "      <td>True</td>\n",
       "      <td>3.008297</td>\n",
       "      <td>0.002220</td>\n",
       "    </tr>\n",
       "    <tr>\n",
       "      <th>102279</th>\n",
       "      <td>102279</td>\n",
       "      <td>0.212044</td>\n",
       "      <td>0.011125</td>\n",
       "      <td>0.000408</td>\n",
       "      <td>2.102719</td>\n",
       "      <td>0.268046</td>\n",
       "      <td>0.096451</td>\n",
       "      <td>4.708956</td>\n",
       "      <td>3.138143</td>\n",
       "      <td>0.995356</td>\n",
       "      <td>...</td>\n",
       "      <td>0.004434</td>\n",
       "      <td>7299.471712</td>\n",
       "      <td>1.0</td>\n",
       "      <td>102279</td>\n",
       "      <td>8941009.bin</td>\n",
       "      <td>1.000000e+09</td>\n",
       "      <td>1.000000e+09</td>\n",
       "      <td>True</td>\n",
       "      <td>3.123568</td>\n",
       "      <td>0.032972</td>\n",
       "    </tr>\n",
       "    <tr>\n",
       "      <th>102291</th>\n",
       "      <td>102291</td>\n",
       "      <td>0.059707</td>\n",
       "      <td>0.013129</td>\n",
       "      <td>0.000544</td>\n",
       "      <td>0.517082</td>\n",
       "      <td>0.355558</td>\n",
       "      <td>0.149216</td>\n",
       "      <td>4.712422</td>\n",
       "      <td>-3.141548</td>\n",
       "      <td>0.988901</td>\n",
       "      <td>...</td>\n",
       "      <td>0.005771</td>\n",
       "      <td>29571.299882</td>\n",
       "      <td>1.0</td>\n",
       "      <td>102291</td>\n",
       "      <td>8944751.bin</td>\n",
       "      <td>1.000000e+09</td>\n",
       "      <td>1.000000e+09</td>\n",
       "      <td>True</td>\n",
       "      <td>3.106681</td>\n",
       "      <td>0.006160</td>\n",
       "    </tr>\n",
       "  </tbody>\n",
       "</table>\n",
       "<p>14285 rows × 31 columns</p>\n",
       "</div>"
      ],
      "text/plain": [
       "        Unnamed: 0.1  EMcrossnear  EMfracstdnear  EPstdnear  MMRstrengthnear  \\\n",
       "12571          12571     0.124015       0.040466   0.008255         0.019094   \n",
       "12573          12573     0.130571       0.043724   0.000329         0.654425   \n",
       "12575          12575     0.047505       0.025835   0.000251         0.129896   \n",
       "12582          12582     0.151994       0.024721   0.001969         0.052933   \n",
       "12583          12583     0.076331       0.044606   0.000424         0.041172   \n",
       "...              ...          ...            ...        ...              ...   \n",
       "102241        102241     0.165220       0.010995   0.001756         0.041770   \n",
       "102252        102252     0.081797       0.016356   0.000475         0.882172   \n",
       "102261        102261     0.142630       0.048276   0.009391         0.465563   \n",
       "102279        102279     0.212044       0.011125   0.000408         2.102719   \n",
       "102291        102291     0.059707       0.013129   0.000544         0.517082   \n",
       "\n",
       "        2BRfillnear  thetaSTDnear  thetanear  thetaVecAngnear  \\\n",
       "12571      0.259070      1.819892   3.125845         1.927428   \n",
       "12573      1.630807      0.364618   4.729507        -3.125541   \n",
       "12575      2.184365      1.829328   3.613532        -2.943334   \n",
       "12582      0.212654      1.840808   3.340023        -2.986795   \n",
       "12583      0.481516      1.999388   3.385175        -2.263718   \n",
       "...             ...           ...        ...              ...   \n",
       "102241     0.099187      1.816187   3.143196         1.918624   \n",
       "102252     0.503213      0.134177   4.711368         3.140577   \n",
       "102261     2.240854      0.292703   4.713222        -3.140762   \n",
       "102279     0.268046      0.096451   4.708956         3.138143   \n",
       "102291     0.355558      0.149216   4.712422        -3.141548   \n",
       "\n",
       "        thetaVecMagnear  ...  MEGNOstd          Tsec  InitialStable  \\\n",
       "12571          0.001043  ...  0.011586  40377.736838            1.0   \n",
       "12573          0.934560  ...  0.255423   1220.122758            1.0   \n",
       "12575          0.374973  ...  0.007537   3178.880533            1.0   \n",
       "12582          0.160377  ...  0.271573   3888.362340            1.0   \n",
       "12583          0.295218  ...  0.001265   8360.259951            1.0   \n",
       "...                 ...  ...       ...           ...            ...   \n",
       "102241         0.000845  ...  0.005806  38221.004472            1.0   \n",
       "102252         0.991028  ...  0.000824  18035.659807            1.0   \n",
       "102261         0.957824  ...  0.000996  97654.673467            1.0   \n",
       "102279         0.995356  ...  0.004434   7299.471712            1.0   \n",
       "102291         0.988901  ...  0.005771  29571.299882            1.0   \n",
       "\n",
       "        Unnamed: 0    runstring  instability_time  shadow_instability_time  \\\n",
       "12571        12571  3325397.bin      1.357216e+08             3.748615e+08   \n",
       "12573        12573  3325400.bin      1.107181e+06             3.455854e+05   \n",
       "12575        12575  3325403.bin      3.866029e+05             2.895415e+05   \n",
       "12582        12582  3325419.bin      7.079977e+08             6.635171e+08   \n",
       "12583        12583  3326000.bin      4.095058e+06             1.944826e+05   \n",
       "...            ...          ...               ...                      ...   \n",
       "102241      102241  8936629.bin      1.000000e+09             1.000000e+09   \n",
       "102252      102252  8937881.bin      1.000000e+09             1.000000e+09   \n",
       "102261      102261  8938516.bin      1.000000e+09             1.000000e+09   \n",
       "102279      102279  8941009.bin      1.000000e+09             1.000000e+09   \n",
       "102291      102291  8944751.bin      1.000000e+09             1.000000e+09   \n",
       "\n",
       "        Stable  nearTheta  farTheta  \n",
       "12571    False   0.002011  3.110867  \n",
       "12573    False   2.921005  1.656877  \n",
       "12575    False   1.103669  0.496083  \n",
       "12582    False   0.479013  0.072792  \n",
       "12583    False   0.668291  0.002472  \n",
       "...        ...        ...       ...  \n",
       "102241    True   0.001622  3.120674  \n",
       "102252    True   3.112399  0.008389  \n",
       "102261    True   3.008297  0.002220  \n",
       "102279    True   3.123568  0.032972  \n",
       "102291    True   3.106681  0.006160  \n",
       "\n",
       "[14285 rows x 31 columns]"
      ]
     },
     "execution_count": 22,
     "metadata": {},
     "output_type": "execute_result"
    }
   ],
   "source": [
    "test"
   ]
  },
  {
   "cell_type": "code",
   "execution_count": 23,
   "metadata": {},
   "outputs": [],
   "source": [
    "xdata = np.transpose(np.array(train[lab]))"
   ]
  },
  {
   "cell_type": "code",
   "execution_count": 24,
   "metadata": {},
   "outputs": [],
   "source": [
    "t =np.array(test[lab])\n",
    "tV = np.array(test['Stable'])"
   ]
  },
  {
   "cell_type": "code",
   "execution_count": 25,
   "metadata": {},
   "outputs": [],
   "source": [
    "ydata = np.array(train['Stable'],dtype=int)"
   ]
  },
  {
   "cell_type": "code",
   "execution_count": 116,
   "metadata": {},
   "outputs": [],
   "source": [
    "# def fit(x, a,aa,b,bb,d,dd,e,ee,f,ff,g,gg):\n",
    "#     c = [a,aa,b,bb,d,dd,e,ee,f,ff,g,gg]\n",
    "#     s = 0\n",
    "#     for i in range(6):\n",
    "#         s+= 1 / ((1 + np.exp(-(x[i] * c[2*i])+c[2*i+1]))*8)\n",
    "#     return s**6\n",
    "def fit(x, *args):\n",
    "    c = args\n",
    "    s = 0\n",
    "    for i in range(6):\n",
    "        s+= 1 / ((1 + np.exp(-(x[i] * c[2*i])+c[2*i+1]))*8)\n",
    "    return s**6"
   ]
  },
  {
   "cell_type": "code",
   "execution_count": 117,
   "metadata": {},
   "outputs": [
    {
     "data": {
      "text/html": [
       "<div>\n",
       "<style scoped>\n",
       "    .dataframe tbody tr th:only-of-type {\n",
       "        vertical-align: middle;\n",
       "    }\n",
       "\n",
       "    .dataframe tbody tr th {\n",
       "        vertical-align: top;\n",
       "    }\n",
       "\n",
       "    .dataframe thead th {\n",
       "        text-align: right;\n",
       "    }\n",
       "</style>\n",
       "<table border=\"1\" class=\"dataframe\">\n",
       "  <thead>\n",
       "    <tr style=\"text-align: right;\">\n",
       "      <th></th>\n",
       "      <th>Tsec</th>\n",
       "      <th>3BRfill</th>\n",
       "      <th>2BRfillnear</th>\n",
       "      <th>2BRfillfar</th>\n",
       "      <th>nearTheta</th>\n",
       "      <th>farTheta</th>\n",
       "    </tr>\n",
       "  </thead>\n",
       "  <tbody>\n",
       "    <tr>\n",
       "      <th>count</th>\n",
       "      <td>70803.000000</td>\n",
       "      <td>70803.000000</td>\n",
       "      <td>70803.000000</td>\n",
       "      <td>70803.000000</td>\n",
       "      <td>7.080300e+04</td>\n",
       "      <td>7.080300e+04</td>\n",
       "    </tr>\n",
       "    <tr>\n",
       "      <th>mean</th>\n",
       "      <td>17925.054714</td>\n",
       "      <td>1.053835</td>\n",
       "      <td>4.126667</td>\n",
       "      <td>0.391149</td>\n",
       "      <td>1.271330e+00</td>\n",
       "      <td>4.484038e-01</td>\n",
       "    </tr>\n",
       "    <tr>\n",
       "      <th>std</th>\n",
       "      <td>22110.854334</td>\n",
       "      <td>2.716082</td>\n",
       "      <td>703.071566</td>\n",
       "      <td>1.448781</td>\n",
       "      <td>1.213225e+00</td>\n",
       "      <td>8.113931e-01</td>\n",
       "    </tr>\n",
       "    <tr>\n",
       "      <th>min</th>\n",
       "      <td>751.291776</td>\n",
       "      <td>0.003625</td>\n",
       "      <td>-179162.572827</td>\n",
       "      <td>0.000203</td>\n",
       "      <td>4.048785e-07</td>\n",
       "      <td>5.381024e-07</td>\n",
       "    </tr>\n",
       "    <tr>\n",
       "      <th>25%</th>\n",
       "      <td>4915.456032</td>\n",
       "      <td>0.173119</td>\n",
       "      <td>0.370538</td>\n",
       "      <td>0.031884</td>\n",
       "      <td>1.082872e-01</td>\n",
       "      <td>1.734151e-02</td>\n",
       "    </tr>\n",
       "    <tr>\n",
       "      <th>50%</th>\n",
       "      <td>10001.704588</td>\n",
       "      <td>0.443687</td>\n",
       "      <td>1.175809</td>\n",
       "      <td>0.104309</td>\n",
       "      <td>8.275621e-01</td>\n",
       "      <td>8.656944e-02</td>\n",
       "    </tr>\n",
       "    <tr>\n",
       "      <th>75%</th>\n",
       "      <td>21618.543714</td>\n",
       "      <td>1.090963</td>\n",
       "      <td>3.758034</td>\n",
       "      <td>0.336339</td>\n",
       "      <td>2.656108e+00</td>\n",
       "      <td>3.712054e-01</td>\n",
       "    </tr>\n",
       "    <tr>\n",
       "      <th>max</th>\n",
       "      <td>241280.324228</td>\n",
       "      <td>335.260781</td>\n",
       "      <td>29970.860268</td>\n",
       "      <td>222.648794</td>\n",
       "      <td>3.141182e+00</td>\n",
       "      <td>3.140404e+00</td>\n",
       "    </tr>\n",
       "  </tbody>\n",
       "</table>\n",
       "</div>"
      ],
      "text/plain": [
       "                Tsec       3BRfill    2BRfillnear    2BRfillfar     nearTheta  \\\n",
       "count   70803.000000  70803.000000   70803.000000  70803.000000  7.080300e+04   \n",
       "mean    17925.054714      1.053835       4.126667      0.391149  1.271330e+00   \n",
       "std     22110.854334      2.716082     703.071566      1.448781  1.213225e+00   \n",
       "min       751.291776      0.003625 -179162.572827      0.000203  4.048785e-07   \n",
       "25%      4915.456032      0.173119       0.370538      0.031884  1.082872e-01   \n",
       "50%     10001.704588      0.443687       1.175809      0.104309  8.275621e-01   \n",
       "75%     21618.543714      1.090963       3.758034      0.336339  2.656108e+00   \n",
       "max    241280.324228    335.260781   29970.860268    222.648794  3.141182e+00   \n",
       "\n",
       "           farTheta  \n",
       "count  7.080300e+04  \n",
       "mean   4.484038e-01  \n",
       "std    8.113931e-01  \n",
       "min    5.381024e-07  \n",
       "25%    1.734151e-02  \n",
       "50%    8.656944e-02  \n",
       "75%    3.712054e-01  \n",
       "max    3.140404e+00  "
      ]
     },
     "execution_count": 117,
     "metadata": {},
     "output_type": "execute_result"
    }
   ],
   "source": [
    "df[lab].describe()"
   ]
  },
  {
   "cell_type": "code",
   "execution_count": 118,
   "metadata": {},
   "outputs": [],
   "source": [
    "m = [21618.543714,1,1.090963,1,3.758034,1,0.336339,1,2.656108e+00,1,3.712054e-01,1]"
   ]
  },
  {
   "cell_type": "code",
   "execution_count": 119,
   "metadata": {},
   "outputs": [],
   "source": [
    "#m = [0.982453, 1, 14004.784042,1, 1.194679,1, 154034.130090,1, 241280.324228,1, 141.043408,1, 45649.990785,1, 86.131097,1]"
   ]
  },
  {
   "cell_type": "code",
   "execution_count": 120,
   "metadata": {},
   "outputs": [],
   "source": [
    "p = np.ones(12)/m"
   ]
  },
  {
   "cell_type": "code",
   "execution_count": 121,
   "metadata": {},
   "outputs": [
    {
     "name": "stderr",
     "output_type": "stream",
     "text": [
      "/tmp/ipykernel_55248/2514293752.py:11: RuntimeWarning: overflow encountered in exp\n",
      "  s+= 1 / ((1 + np.exp(-(x[i] * c[2*i])+c[2*i+1]))*8)\n",
      "/tmp/ipykernel_55248/2514293752.py:11: RuntimeWarning: overflow encountered in multiply\n",
      "  s+= 1 / ((1 + np.exp(-(x[i] * c[2*i])+c[2*i+1]))*8)\n",
      "/home/miniconda3/envs/ethadhani/lib/python3.10/site-packages/scipy/optimize/_minpack_py.py:1010: OptimizeWarning: Covariance of the parameters could not be estimated\n",
      "  warnings.warn('Covariance of the parameters could not be estimated',\n"
     ]
    }
   ],
   "source": [
    "a = curve_fit(fit, xdata, ydata, p0=p)"
   ]
  },
  {
   "cell_type": "code",
   "execution_count": 122,
   "metadata": {},
   "outputs": [],
   "source": [
    "import numpy as np\n",
    "import matplotlib.pyplot as plt\n",
    "import pandas as pd\n",
    "from sklearn import metrics\n",
    "import xgboost as xgb\n",
    "from xgboost.sklearn import XGBClassifier\n",
    "from hyperopt import hp, fmin, tpe, STATUS_OK, Trials\n",
    "import hyperopt\n",
    "import sys\n",
    "from sklearn import metrics\n",
    "from sklearn.metrics import roc_curve, confusion_matrix, auc"
   ]
  },
  {
   "cell_type": "code",
   "execution_count": 128,
   "metadata": {},
   "outputs": [],
   "source": [
    "def fitF(x):\n",
    "    return fit(x, *a[0])"
   ]
  },
  {
   "cell_type": "code",
   "execution_count": 129,
   "metadata": {},
   "outputs": [],
   "source": [
    "def ROC_curve(x,y):\n",
    "    preds = list(map(fitF, x))\n",
    "    fpr, tpr, ROCthresholds = roc_curve(y, preds)\n",
    "    roc_auc = metrics.roc_auc_score(y, preds)\n",
    "    return roc_auc, fpr, tpr, ROCthresholds"
   ]
  },
  {
   "cell_type": "code",
   "execution_count": 130,
   "metadata": {},
   "outputs": [
    {
     "data": {
      "text/plain": [
       "14285"
      ]
     },
     "execution_count": 130,
     "metadata": {},
     "output_type": "execute_result"
    }
   ],
   "source": [
    "len(tV)"
   ]
  },
  {
   "cell_type": "code",
   "execution_count": 131,
   "metadata": {},
   "outputs": [
    {
     "name": "stderr",
     "output_type": "stream",
     "text": [
      "/tmp/ipykernel_55248/2514293752.py:11: RuntimeWarning: overflow encountered in exp\n",
      "  s+= 1 / ((1 + np.exp(-(x[i] * c[2*i])+c[2*i+1]))*8)\n"
     ]
    },
    {
     "data": {
      "text/plain": [
       "Text(0.5, 1.0, '(one model AUC = 0.7941)')"
      ]
     },
     "execution_count": 131,
     "metadata": {},
     "output_type": "execute_result"
    },
    {
     "data": {
      "image/png": "[encoded data removed]",
      "text/plain": [
       "<Figure size 640x480 with 1 Axes>"
      ]
     },
     "metadata": {},
     "output_type": "display_data"
    }
   ],
   "source": [
    "roc_auc, fpr, tpr, ROCthresholds = ROC_curve(t, tV)\n",
    "\n",
    "fig, ax = plt.subplots()\n",
    "ax.plot(fpr, tpr)\n",
    "ax.plot([0, 1], [0, 1], 'k--')\n",
    "ax.set_xlim([0.0, 1.0])\n",
    "ax.set_ylim([0.0, 1.0])\n",
    "ax.set_xlabel('False Positive Rate')\n",
    "ax.set_ylabel('True Positive Rate')\n",
    "ax.set_title('(one model AUC = {0:.4f})'.format(roc_auc))"
   ]
  },
  {
   "cell_type": "code",
   "execution_count": 218,
   "metadata": {},
   "outputs": [
    {
     "data": {
      "text/plain": [
       "0.6770023871606912"
      ]
     },
     "execution_count": 218,
     "metadata": {},
     "output_type": "execute_result"
    }
   ],
   "source": [
    "ROCthresholds[1000]"
   ]
  },
  {
   "cell_type": "code",
   "execution_count": 222,
   "metadata": {},
   "outputs": [
    {
     "data": {
      "text/plain": [
       "0.9436979306638"
      ]
     },
     "execution_count": 222,
     "metadata": {},
     "output_type": "execute_result"
    }
   ],
   "source": [
    "tpr[4000]"
   ]
  },
  {
   "cell_type": "code",
   "execution_count": 210,
   "metadata": {},
   "outputs": [
    {
     "data": {
      "text/plain": [
       "0.20157142857142857"
      ]
     },
     "execution_count": 210,
     "metadata": {},
     "output_type": "execute_result"
    }
   ],
   "source": [
    "fpr[2000]"
   ]
  },
  {
   "cell_type": "code",
   "execution_count": 114,
   "metadata": {},
   "outputs": [],
   "source": [
    "def test(*args):\n",
    "    print(args)"
   ]
  },
  {
   "cell_type": "code",
   "execution_count": null,
   "metadata": {},
   "outputs": [],
   "source": []
  }
 ],
 "metadata": {
  "kernelspec": {
   "display_name": "ethadhani",
   "language": "python",
   "name": "python3"
  },
  "language_info": {
   "codemirror_mode": {
    "name": "ipython",
    "version": 3
   },
   "file_extension": ".py",
   "mimetype": "text/x-python",
   "name": "python",
   "nbconvert_exporter": "python",
   "pygments_lexer": "ipython3",
   "version": "3.10.13"
  }
 },
 "nbformat": 4,
 "nbformat_minor": 2
}
